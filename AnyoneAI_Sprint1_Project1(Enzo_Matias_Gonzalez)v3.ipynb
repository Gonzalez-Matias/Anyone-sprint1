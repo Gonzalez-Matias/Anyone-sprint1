{
  "cells": [
    {
      "cell_type": "markdown",
      "metadata": {
        "id": "view-in-github",
        "colab_type": "text"
      },
      "source": [
        "<a href=\"https://colab.research.google.com/github/Gonzalez-Matias/Anyone-sprint1/blob/main/AnyoneAI_Sprint1_Project1(Enzo_Matias_Gonzalez)v3.ipynb\" target=\"_parent\"><img src=\"https://colab.research.google.com/assets/colab-badge.svg\" alt=\"Open In Colab\"/></a>"
      ]
    },
    {
      "cell_type": "markdown",
      "id": "ae010f33-c6b5-475d-acd5-d37df011a5bd",
      "metadata": {
        "tags": [],
        "id": "ae010f33-c6b5-475d-acd5-d37df011a5bd"
      },
      "source": [
        "# AnyoneAI - Project I\n",
        "\n",
        "# An analysis of NBA players in the 2021/2022 season"
      ]
    },
    {
      "cell_type": "markdown",
      "id": "feb5643a-e69d-45d5-8143-67e7cac8db62",
      "metadata": {
        "id": "feb5643a-e69d-45d5-8143-67e7cac8db62"
      },
      "source": [
        "Hi! this is the first of several projects we're going to be working on during this course. \n",
        "You will be expected to finish this on your own, but you can use the available channels on Discord to ask questions and help others. Please read the entire notebook before starting, this will give you a better idea of what you need to accomplish.\n",
        "\n",
        "This project will rely heavily in the use of API as data sources. Contrary to most machine learning challenges and competitions, working in the industry usually requires the ML Developer to work with multiple teams and use heterogeneous sources of information to get the necessary data to solve a particular problem. Access to data is often provided through application programming interfaces (APIs), whether internal or external to the organization. It is very important to understand how to interact with APIs to collect data in our day to day work.\n",
        "\n",
        "You might be wondering: why basketball? The main reason is availability of data.\n",
        "\n",
        "The sport is played at a fast pace, with hundreds of plays in each single game, thousands of games in a season, and with a relatively small amount of on-court players, which gives them a lot of interactions with the ball, which in turn provides an oportunity to collect a great amount of data about each player performance."
      ]
    },
    {
      "cell_type": "markdown",
      "id": "01778870-2619-4f79-a9a9-39e5d368cc18",
      "metadata": {
        "id": "01778870-2619-4f79-a9a9-39e5d368cc18"
      },
      "source": [
        "These are the objectives of the project:\n",
        "- Understanding how to query an API to create a dataset with Python and Pandas\n",
        "- Learning how to cleanup a dataset and generate new fields from calculated data\n",
        "- Storing the created dataset in a serialized manner\n",
        "- Generating statistics about the data\n",
        "- Visualizing data"
      ]
    },
    {
      "cell_type": "markdown",
      "id": "67f24c7c-0f5e-4e1e-afe9-d7a1a99665f5",
      "metadata": {
        "id": "67f24c7c-0f5e-4e1e-afe9-d7a1a99665f5"
      },
      "source": [
        "## Introduction"
      ]
    },
    {
      "cell_type": "markdown",
      "id": "efb6e67d-55c9-4af3-9f9b-ca503be01355",
      "metadata": {
        "id": "efb6e67d-55c9-4af3-9f9b-ca503be01355"
      },
      "source": [
        "### A brief description of basketball and the NBA"
      ]
    },
    {
      "cell_type": "markdown",
      "id": "7d6da412-3b11-4541-9165-b4eea8570c3e",
      "metadata": {
        "id": "7d6da412-3b11-4541-9165-b4eea8570c3e"
      },
      "source": [
        "The National Basketball Association is the main basketball league in the United States of America. It currently features 30 teams from different cities, divided in 2 conferences (East and West) of 15 teams. Each team plays a total of 82 games during the regular season. After that, the 8 teams with better records from each conference are seeded in a playoff format, with the winner of each conference playing the finals to determine the eventual champion. NBA seasons usually play out between october of one year, to june of the next year, so for example the current season being played is called the 2021/2022 season.\n",
        "\n",
        "As in most leagues in the world, the game is played 5 vs 5 players, with as many as 9 reserve players that can rotate with the starters as many times as the team wants. Games are played to 48 minutes, so the total amount of minutes of combined play time for any team in a single game with no added time is 240 minutes. If the score is tied at the end of the 48 minutes, 5 minutes of extra time are played, this continues until a winner is decided.\n",
        "\n",
        "Even though they can play multiple positions, players are usually classified according to the following positions:\n",
        "\n",
        "- Guards\n",
        "    - Point Guards\n",
        "    - Shooting Guards\n",
        "- Forwards\n",
        "    - Small Forwards\n",
        "    - Power Forwards\n",
        "- Centers\n",
        "\n",
        "We will mainly focus on the three main positions: Guards/Forwards/Centers"
      ]
    },
    {
      "cell_type": "markdown",
      "id": "6cfdce7d-d6c4-4fb4-8906-4fbca324ab45",
      "metadata": {
        "id": "6cfdce7d-d6c4-4fb4-8906-4fbca324ab45"
      },
      "source": [
        "### The dataset"
      ]
    },
    {
      "cell_type": "markdown",
      "id": "06cbbd6b-4588-4991-890d-c0cdc4240e0a",
      "metadata": {
        "id": "06cbbd6b-4588-4991-890d-c0cdc4240e0a"
      },
      "source": [
        "You'll be in charge of creating our dataset. We want to create a single pandas dataframe with information about all active players in the current NBA season. \n",
        "The dataset needs to have the following structure:\n",
        "\n",
        "- Personal Information\n",
        "    - player_id (int) (INDEX) \n",
        "    - player_name (str)\n",
        "    - team_name (str)\n",
        "    - position (str)\n",
        "    - height (int) (in centimeters) \n",
        "    - weight (float) (in kilograms)\n",
        "    - country of origin (str)\n",
        "    - date_of_birth (datetime)\n",
        "    - age (str) (years and months)\n",
        "    - years_of_experience (int) (years since entering the league)\n",
        "    - Draft position (int)\n",
        "- Player career statistics\n",
        "    - games played (int)\n",
        "    - minutes per game (float)\n",
        "    - points per game (float)\n",
        "    - rebounds per game (float)\n",
        "    - assists per game (float)\n",
        "    - steals per game (float)\n",
        "    - blocks per game (float)\n",
        "- Misc\n",
        "    - salary in dollars (int) (contract value for this season only)\n",
        "    - next_game_date (datetime)"
      ]
    },
    {
      "cell_type": "markdown",
      "id": "a8549d4d-6773-4eaf-939e-7dd96b16d656",
      "metadata": {
        "id": "a8549d4d-6773-4eaf-939e-7dd96b16d656"
      },
      "source": [
        "Here is a sample of how the final result should look like:"
      ]
    },
    {
      "cell_type": "code",
      "execution_count": 1,
      "id": "4d6d7c9f-2030-42d0-87ac-017dbe6a7d19",
      "metadata": {
        "id": "4d6d7c9f-2030-42d0-87ac-017dbe6a7d19",
        "outputId": "761982c7-96f3-41af-acdd-af05d84ec6f4",
        "colab": {
          "base_uri": "https://localhost:8080/",
          "height": 195
        }
      },
      "outputs": [
        {
          "output_type": "execute_result",
          "data": {
            "text/plain": [
              "             PLAYER_NAME      TEAM_NAME POSITION  HEIGHT  WEIGHT  \\\n",
              "200765       Rajon Rondo      Cavaliers    Guard     185      82   \n",
              "203107  Tomas Satoransky        Wizards    Guard     201      95   \n",
              "204060        Joe Ingles  Trail Blazers  Forward     203     100   \n",
              "\n",
              "               COUNTRY  BIRTHDATE  SEASON_EXP DRAFT_NUMBER   GP   MIN  PTS  \\\n",
              "200765             USA 1986-02-22          15           21  957  29.9  9.8   \n",
              "203107  Czech Republic 1991-10-30           5           32  388  22.2  6.9   \n",
              "204060       Australia 1987-10-02           7    Undrafted  590  25.7  8.6   \n",
              "\n",
              "        REB  AST  STL  BLK  GAME_DATE    SALARY                          AGE  \n",
              "200765  4.5  7.9  1.6  0.1 2022-04-10   2641691  36 years, 1 months, 19 days  \n",
              "203107  2.9  4.1  0.8  0.2 2022-04-10  10468119  30 years, 5 months, 11 days  \n",
              "204060  3.2  3.8  0.9  0.2 2022-04-10  14000000   34 years, 6 months, 8 days  "
            ],
            "text/html": [
              "<div>\n",
              "<style scoped>\n",
              "    .dataframe tbody tr th:only-of-type {\n",
              "        vertical-align: middle;\n",
              "    }\n",
              "\n",
              "    .dataframe tbody tr th {\n",
              "        vertical-align: top;\n",
              "    }\n",
              "\n",
              "    .dataframe thead th {\n",
              "        text-align: right;\n",
              "    }\n",
              "</style>\n",
              "<table border=\"1\" class=\"dataframe\">\n",
              "  <thead>\n",
              "    <tr style=\"text-align: right;\">\n",
              "      <th></th>\n",
              "      <th>PLAYER_NAME</th>\n",
              "      <th>TEAM_NAME</th>\n",
              "      <th>POSITION</th>\n",
              "      <th>HEIGHT</th>\n",
              "      <th>WEIGHT</th>\n",
              "      <th>COUNTRY</th>\n",
              "      <th>BIRTHDATE</th>\n",
              "      <th>SEASON_EXP</th>\n",
              "      <th>DRAFT_NUMBER</th>\n",
              "      <th>GP</th>\n",
              "      <th>MIN</th>\n",
              "      <th>PTS</th>\n",
              "      <th>REB</th>\n",
              "      <th>AST</th>\n",
              "      <th>STL</th>\n",
              "      <th>BLK</th>\n",
              "      <th>GAME_DATE</th>\n",
              "      <th>SALARY</th>\n",
              "      <th>AGE</th>\n",
              "    </tr>\n",
              "  </thead>\n",
              "  <tbody>\n",
              "    <tr>\n",
              "      <th>200765</th>\n",
              "      <td>Rajon Rondo</td>\n",
              "      <td>Cavaliers</td>\n",
              "      <td>Guard</td>\n",
              "      <td>185</td>\n",
              "      <td>82</td>\n",
              "      <td>USA</td>\n",
              "      <td>1986-02-22</td>\n",
              "      <td>15</td>\n",
              "      <td>21</td>\n",
              "      <td>957</td>\n",
              "      <td>29.9</td>\n",
              "      <td>9.8</td>\n",
              "      <td>4.5</td>\n",
              "      <td>7.9</td>\n",
              "      <td>1.6</td>\n",
              "      <td>0.1</td>\n",
              "      <td>2022-04-10</td>\n",
              "      <td>2641691</td>\n",
              "      <td>36 years, 1 months, 19 days</td>\n",
              "    </tr>\n",
              "    <tr>\n",
              "      <th>203107</th>\n",
              "      <td>Tomas Satoransky</td>\n",
              "      <td>Wizards</td>\n",
              "      <td>Guard</td>\n",
              "      <td>201</td>\n",
              "      <td>95</td>\n",
              "      <td>Czech Republic</td>\n",
              "      <td>1991-10-30</td>\n",
              "      <td>5</td>\n",
              "      <td>32</td>\n",
              "      <td>388</td>\n",
              "      <td>22.2</td>\n",
              "      <td>6.9</td>\n",
              "      <td>2.9</td>\n",
              "      <td>4.1</td>\n",
              "      <td>0.8</td>\n",
              "      <td>0.2</td>\n",
              "      <td>2022-04-10</td>\n",
              "      <td>10468119</td>\n",
              "      <td>30 years, 5 months, 11 days</td>\n",
              "    </tr>\n",
              "    <tr>\n",
              "      <th>204060</th>\n",
              "      <td>Joe Ingles</td>\n",
              "      <td>Trail Blazers</td>\n",
              "      <td>Forward</td>\n",
              "      <td>203</td>\n",
              "      <td>100</td>\n",
              "      <td>Australia</td>\n",
              "      <td>1987-10-02</td>\n",
              "      <td>7</td>\n",
              "      <td>Undrafted</td>\n",
              "      <td>590</td>\n",
              "      <td>25.7</td>\n",
              "      <td>8.6</td>\n",
              "      <td>3.2</td>\n",
              "      <td>3.8</td>\n",
              "      <td>0.9</td>\n",
              "      <td>0.2</td>\n",
              "      <td>2022-04-10</td>\n",
              "      <td>14000000</td>\n",
              "      <td>34 years, 6 months, 8 days</td>\n",
              "    </tr>\n",
              "  </tbody>\n",
              "</table>\n",
              "</div>"
            ]
          },
          "metadata": {},
          "execution_count": 1
        }
      ],
      "source": [
        "import pandas as pd\n",
        "\n",
        "sample_dict = {\n",
        "    'PLAYER_NAME': {200765: 'Rajon Rondo',  203107: 'Tomas Satoransky',  204060: 'Joe Ingles'},\n",
        "    'TEAM_NAME': {200765: 'Cavaliers', 203107: 'Wizards', 204060: 'Trail Blazers'},\n",
        "    'POSITION': {200765: 'Guard', 203107: 'Guard', 204060: 'Forward'},\n",
        "    'HEIGHT': {200765: 185, 203107: 201, 204060: 203},\n",
        "    'WEIGHT': {200765: 82, 203107: 95, 204060: 100},\n",
        "    'COUNTRY': {200765: 'USA', 203107: 'Czech Republic', 204060: 'Australia'},\n",
        "    'BIRTHDATE': {200765: pd.Timestamp('1986-02-22 00:00:00'), 203107: pd.Timestamp('1991-10-30 00:00:00'), 204060: pd.Timestamp('1987-10-02 00:00:00')},\n",
        "    'SEASON_EXP': {200765: 15, 203107: 5, 204060: 7},\n",
        "    'DRAFT_NUMBER': {200765: '21', 203107: '32', 204060: 'Undrafted'},\n",
        "    'GP': {200765: 957, 203107: 388, 204060: 590},\n",
        "    'MIN': {200765: 29.9, 203107: 22.2, 204060: 25.7},\n",
        "    'PTS': {200765: 9.8, 203107: 6.9, 204060: 8.6},\n",
        "    'REB': {200765: 4.5, 203107: 2.9, 204060: 3.2},\n",
        "    'AST': {200765: 7.9, 203107: 4.1, 204060: 3.8},\n",
        "    'STL': {200765: 1.6, 203107: 0.8, 204060: 0.9},\n",
        "    'BLK': {200765: 0.1, 203107: 0.2, 204060: 0.2},\n",
        "    'GAME_DATE': {200765: pd.Timestamp('2022-04-10 00:00:00'), 203107: pd.Timestamp('2022-04-10 00:00:00'), 204060: pd.Timestamp('2022-04-10 00:00:00')},\n",
        "    'SALARY': {200765: 2641691, 203107: 10468119, 204060: 14000000},\n",
        "    'AGE': {200765: '36 years, 1 months, 19 days', 203107: '30 years, 5 months, 11 days', 204060: '34 years, 6 months, 8 days'}\n",
        "}\n",
        "pd.DataFrame(sample_dict)"
      ]
    },
    {
      "cell_type": "markdown",
      "id": "2f6e860b-d366-4198-b74e-805fcc7bce6c",
      "metadata": {
        "id": "2f6e860b-d366-4198-b74e-805fcc7bce6c"
      },
      "source": [
        "## Collecting information for building our dataset"
      ]
    },
    {
      "cell_type": "markdown",
      "id": "54f9b97d-32f9-4ee1-830c-724d28b85833",
      "metadata": {
        "id": "54f9b97d-32f9-4ee1-830c-724d28b85833"
      },
      "source": [
        "In this section, we're only going to work on collecting the necessary raw data to build the required dataset. Don't worry about finishing everything here, we'll generate the appropiate fields and merge the data into a single dataframe in the next section.\n",
        "\n",
        "To get the information, you can use any public and free API you can find, but you have to provide the code that gets the information here. We recommend using this API:\n",
        " \n",
        "- https://github.com/swar/nba_api\n",
        "\n",
        "    This is a Python library that can be used to obtain data from stats.nba.com, it provides a set of methods that abstracts you from making the http calls, but directly makes calls to nba stats page and parses the results. [Here](https://github.com/swar/nba_api/blob/master/docs/examples/Basics.ipynb) are a couple of examples on how to use it.\n",
        "    \n",
        "\n",
        "A few notes on data collection:\n",
        "\n",
        "- Start simple. Try to get all the required information for 1 player, read the APIs documentation carefuly, then think about how to use them to collect all players data. \n",
        "\n",
        "- Please bear in mind that the most public APIs have some kind of rate limit, so you have to be careful about iterating on data and making lots of requests in a short amount of time (a 1 second delay between calls to the api should be enough). Once you've collected what you needed, save it to file in order to retrieve it later without calling the API again.\n",
        "\n",
        "- A key consideration: we only want data about players that have played in the current season, so make sure to filter those out before collecting the rest of the information.\n",
        "\n",
        "- There is at least one piece of information you're not going to find in both of those APIs: the player contract information. Again you can decide to use any source, but we recommend using information provided [here](https://www.basketball-reference.com/contracts/players.html), as it lets you export the data as a csv.  "
      ]
    },
    {
      "cell_type": "code",
      "source": [
        "!pip install nba_api"
      ],
      "metadata": {
        "colab": {
          "base_uri": "https://localhost:8080/"
        },
        "id": "8ofICsZ3AQ4-",
        "outputId": "ba6d83e4-c857-45c7-9188-7129bac48cea"
      },
      "id": "8ofICsZ3AQ4-",
      "execution_count": null,
      "outputs": [
        {
          "output_type": "stream",
          "name": "stdout",
          "text": [
            "Collecting nba_api\n",
            "  Downloading nba_api-1.1.11.tar.gz (125 kB)\n",
            "\u001b[?25l\r\u001b[K     |██▋                             | 10 kB 4.8 MB/s eta 0:00:01\r\u001b[K     |█████▏                          | 20 kB 8.4 MB/s eta 0:00:01\r\u001b[K     |███████▉                        | 30 kB 7.9 MB/s eta 0:00:01\r\u001b[K     |██████████▍                     | 40 kB 3.6 MB/s eta 0:00:01\r\u001b[K     |█████████████                   | 51 kB 3.6 MB/s eta 0:00:01\r\u001b[K     |███████████████▋                | 61 kB 4.3 MB/s eta 0:00:01\r\u001b[K     |██████████████████▎             | 71 kB 4.5 MB/s eta 0:00:01\r\u001b[K     |████████████████████▉           | 81 kB 4.4 MB/s eta 0:00:01\r\u001b[K     |███████████████████████▌        | 92 kB 5.0 MB/s eta 0:00:01\r\u001b[K     |██████████████████████████      | 102 kB 4.2 MB/s eta 0:00:01\r\u001b[K     |████████████████████████████▊   | 112 kB 4.2 MB/s eta 0:00:01\r\u001b[K     |███████████████████████████████▎| 122 kB 4.2 MB/s eta 0:00:01\r\u001b[K     |████████████████████████████████| 125 kB 4.2 MB/s \n",
            "\u001b[?25hRequirement already satisfied: requests in /usr/local/lib/python3.7/dist-packages (from nba_api) (2.23.0)\n",
            "Requirement already satisfied: chardet<4,>=3.0.2 in /usr/local/lib/python3.7/dist-packages (from requests->nba_api) (3.0.4)\n",
            "Requirement already satisfied: certifi>=2017.4.17 in /usr/local/lib/python3.7/dist-packages (from requests->nba_api) (2021.10.8)\n",
            "Requirement already satisfied: idna<3,>=2.5 in /usr/local/lib/python3.7/dist-packages (from requests->nba_api) (2.10)\n",
            "Requirement already satisfied: urllib3!=1.25.0,!=1.25.1,<1.26,>=1.21.1 in /usr/local/lib/python3.7/dist-packages (from requests->nba_api) (1.24.3)\n",
            "Building wheels for collected packages: nba-api\n",
            "  Building wheel for nba-api (setup.py) ... \u001b[?25l\u001b[?25hdone\n",
            "  Created wheel for nba-api: filename=nba_api-1.1.11-py3-none-any.whl size=251504 sha256=8c9980ef3d48d0c2401fe17af131a66cebb06a5f554dcad8b5509dd82694f4fa\n",
            "  Stored in directory: /root/.cache/pip/wheels/e3/f4/46/996128675381abc175e306642bae575d372dcf7efc4683e551\n",
            "Successfully built nba-api\n",
            "Installing collected packages: nba-api\n",
            "Successfully installed nba-api-1.1.11\n"
          ]
        }
      ]
    },
    {
      "cell_type": "code",
      "source": [
        "import numpy as np\n",
        "import pandas as pd\n",
        "import time\n",
        "import unicodedata\n",
        "from datetime import date\n",
        "from collections import Counter\n",
        "import difflib\n",
        "from IPython.display import clear_output\n",
        "from nba_api.stats.endpoints import playercareerstats , commonplayerinfo, playerprofilev2, commonallplayers"
      ],
      "metadata": {
        "id": "-7QmMZgjAHqs"
      },
      "id": "-7QmMZgjAHqs",
      "execution_count": 2,
      "outputs": []
    },
    {
      "cell_type": "markdown",
      "id": "ae032907-b133-4cf8-8026-85f853755e46",
      "metadata": {
        "id": "ae032907-b133-4cf8-8026-85f853755e46"
      },
      "source": [
        "1- Create a function to find all ACTIVE players, meaning players that are listed with a team in the 2021/2022 season. For now you only need the player id, name, and team. Save the dataframe to a csv named \"nba_current_players_list.csv\". The function should return the dataframe."
      ]
    },
    {
      "cell_type": "markdown",
      "id": "ab2a86ef-3be9-42e2-a17d-111924c8ca2a",
      "metadata": {
        "id": "ab2a86ef-3be9-42e2-a17d-111924c8ca2a"
      },
      "source": [
        "Hint: you should find an API method that can give you a list of players in just one call, this way we can filter those players we're interested in, and later will make calls for each specific player."
      ]
    },
    {
      "cell_type": "markdown",
      "id": "b5e2138b-0640-4420-9ca3-dbbe4033620c",
      "metadata": {
        "id": "b5e2138b-0640-4420-9ca3-dbbe4033620c"
      },
      "source": [
        "Consider dropping: \n",
        "- All players with TEAM_ID == 0\n",
        "- All players with GAMES_PLAYED_FLAG == N\n",
        "- Player with id 1630597 (This guy is a problem ;))"
      ]
    },
    {
      "cell_type": "code",
      "execution_count": 3,
      "id": "2ce48cb6-3f35-4f62-a652-edc84f171010",
      "metadata": {
        "id": "2ce48cb6-3f35-4f62-a652-edc84f171010"
      },
      "outputs": [],
      "source": [
        "### Complete in this cell: get all active players from the api\n",
        "\n",
        "def get_and_save_players_list():\n",
        "  plays = commonallplayers.CommonAllPlayers(is_only_current_season=1).get_data_frames()[0]\n",
        "  marks = (plays.TEAM_ID == 0) | (plays.GAMES_PLAYED_FLAG == \"N\") | (plays.PERSON_ID == 1630597)\n",
        "  current_players_list = plays.drop(plays.loc[marks].index,  axis=0)[\"PERSON_ID\"]\n",
        "  return current_players_list"
      ]
    },
    {
      "cell_type": "code",
      "execution_count": 4,
      "id": "d1619cb8-d6cf-4645-b696-a351fac2f3a9",
      "metadata": {
        "id": "d1619cb8-d6cf-4645-b696-a351fac2f3a9",
        "colab": {
          "base_uri": "https://localhost:8080/"
        },
        "outputId": "4e43e45b-071b-4d77-a913-9f6ea3febfbe"
      },
      "outputs": [
        {
          "output_type": "execute_result",
          "data": {
            "text/plain": [
              "0      1630173\n",
              "1       203500\n",
              "2      1628389\n",
              "3      1630583\n",
              "4       200746\n",
              "        ...   \n",
              "612    1628221\n",
              "613     201152\n",
              "614    1629027\n",
              "615    1630209\n",
              "617    1627826\n",
              "Name: PERSON_ID, Length: 503, dtype: int64"
            ]
          },
          "metadata": {},
          "execution_count": 4
        }
      ],
      "source": [
        "current_players_list = get_and_save_players_list()\n",
        "#current_players_list.to_csv(\"C:/Users/dgenz/Repositorios/Anyone_sprint1/nba_current_players_list.csv\")\n",
        "current_players_list"
      ]
    },
    {
      "cell_type": "markdown",
      "id": "d8ea7729-4019-4d7e-9167-e412becbf215",
      "metadata": {
        "id": "d8ea7729-4019-4d7e-9167-e412becbf215"
      },
      "source": [
        "2- Create a function to find the personal information of all players listed in the dataframe created in the previous step, and save it to a csv file named \"nba_players_personal_info.csv\". The function should also return the created dataframe."
      ]
    },
    {
      "cell_type": "markdown",
      "id": "428bef6b-05d0-4a9a-82cd-71fa81837247",
      "metadata": {
        "id": "428bef6b-05d0-4a9a-82cd-71fa81837247"
      },
      "source": [
        "OPTIONAL: iterating on a list of players and making API calls can be complex and full of errors, try a code block that handles exceptions (for example a timeout from the API) and returns the partial result before it failed, you could also save the partial information to disk."
      ]
    },
    {
      "cell_type": "code",
      "execution_count": 5,
      "id": "541491d1-33eb-4277-afb5-ff449109f680",
      "metadata": {
        "id": "541491d1-33eb-4277-afb5-ff449109f680"
      },
      "outputs": [],
      "source": [
        "### Complete in this cell: Find players personal information (name, age, dob, etc), store the information in a CSV file.\n",
        "\n",
        "def get_players_personal_information(current_players_list):\n",
        "  basic_info_player = []\n",
        "  for id in current_players_list:\n",
        "    career = commonplayerinfo.CommonPlayerInfo(player_id = id)\n",
        "    basic_info_player.append(career)\n",
        "    clear_output(wait=True)\n",
        "    print(str(round(len(basic_info_player)/len(current_players_list)*100,2)) + \"%\")\n",
        "    time.sleep(0.5)\n",
        "  basic_data_players = basic_info_player[0].get_data_frames()[0]\n",
        "  for player in range(1,len(basic_info_player)):\n",
        "    basic_data_players = pd.concat([basic_data_players,basic_info_player[player].get_data_frames()[0]], ignore_index=True )         \n",
        "  basic_data_players.drop_duplicates(inplace=True)\n",
        "  mask = (basic_data_players.TEAM_ID == 0) | (basic_data_players.GAMES_PLAYED_FLAG == \"N\") | (basic_data_players.PERSON_ID == 1630597)\n",
        "  dropeable_index =basic_data_players.loc[mask].index \n",
        "  basic_data_players.drop(dropeable_index, axis=0, inplace = True)\n",
        "  basic_data_players = basic_data_players[[\"PERSON_ID\", \"DISPLAY_FIRST_LAST\", \"TEAM_NAME\", \"POSITION\", \"HEIGHT\", \"WEIGHT\", \"COUNTRY\", \"BIRTHDATE\", \"SEASON_EXP\", \"DRAFT_NUMBER\"]]\n",
        "  basic_data_players.set_index(basic_data_players.PERSON_ID, inplace=True)\n",
        "  basic_data_players.drop([\"PERSON_ID\"], axis=1, inplace=True)\n",
        "  basic_data_players.index.name = None\n",
        "  return basic_data_players"
      ]
    },
    {
      "cell_type": "code",
      "execution_count": 6,
      "id": "d34373b8-fc72-48e1-aef3-654508a27308",
      "metadata": {
        "id": "d34373b8-fc72-48e1-aef3-654508a27308",
        "colab": {
          "base_uri": "https://localhost:8080/"
        },
        "outputId": "097fcc52-6262-4cb2-95bb-89e8d41fdbc9"
      },
      "outputs": [
        {
          "output_type": "stream",
          "name": "stdout",
          "text": [
            "100.0%\n"
          ]
        }
      ],
      "source": [
        "players_personal_info = get_players_personal_information(current_players_list)\n",
        "#players_personal_info.to_csv(\"C:/Users/dgenz/Repositorios/Anyone_sprint1/players_personal_info.csv\")"
      ]
    },
    {
      "cell_type": "code",
      "source": [
        "players_personal_info.head()"
      ],
      "metadata": {
        "colab": {
          "base_uri": "https://localhost:8080/",
          "height": 206
        },
        "id": "kf3-SA7L5PS3",
        "outputId": "7048a7ff-119d-4129-bce2-b81d22a41347"
      },
      "id": "kf3-SA7L5PS3",
      "execution_count": 7,
      "outputs": [
        {
          "output_type": "execute_result",
          "data": {
            "text/plain": [
              "        DISPLAY_FIRST_LAST  TEAM_NAME        POSITION HEIGHT WEIGHT  \\\n",
              "1630173   Precious Achiuwa    Raptors         Forward    6-8    225   \n",
              "203500        Steven Adams  Grizzlies          Center   6-11    265   \n",
              "1628389        Bam Adebayo       Heat  Center-Forward    6-9    255   \n",
              "1630583       Santi Aldama  Grizzlies  Forward-Center   6-11    215   \n",
              "200746   LaMarcus Aldridge       Nets  Center-Forward   6-11    250   \n",
              "\n",
              "             COUNTRY            BIRTHDATE  SEASON_EXP DRAFT_NUMBER  \n",
              "1630173      Nigeria  1999-09-19T00:00:00           1           20  \n",
              "203500   New Zealand  1993-07-20T00:00:00           8           12  \n",
              "1628389          USA  1997-07-18T00:00:00           4           14  \n",
              "1630583        Spain  2001-01-10T00:00:00           0           30  \n",
              "200746           USA  1985-07-19T00:00:00          15            2  "
            ],
            "text/html": [
              "<div>\n",
              "<style scoped>\n",
              "    .dataframe tbody tr th:only-of-type {\n",
              "        vertical-align: middle;\n",
              "    }\n",
              "\n",
              "    .dataframe tbody tr th {\n",
              "        vertical-align: top;\n",
              "    }\n",
              "\n",
              "    .dataframe thead th {\n",
              "        text-align: right;\n",
              "    }\n",
              "</style>\n",
              "<table border=\"1\" class=\"dataframe\">\n",
              "  <thead>\n",
              "    <tr style=\"text-align: right;\">\n",
              "      <th></th>\n",
              "      <th>DISPLAY_FIRST_LAST</th>\n",
              "      <th>TEAM_NAME</th>\n",
              "      <th>POSITION</th>\n",
              "      <th>HEIGHT</th>\n",
              "      <th>WEIGHT</th>\n",
              "      <th>COUNTRY</th>\n",
              "      <th>BIRTHDATE</th>\n",
              "      <th>SEASON_EXP</th>\n",
              "      <th>DRAFT_NUMBER</th>\n",
              "    </tr>\n",
              "  </thead>\n",
              "  <tbody>\n",
              "    <tr>\n",
              "      <th>1630173</th>\n",
              "      <td>Precious Achiuwa</td>\n",
              "      <td>Raptors</td>\n",
              "      <td>Forward</td>\n",
              "      <td>6-8</td>\n",
              "      <td>225</td>\n",
              "      <td>Nigeria</td>\n",
              "      <td>1999-09-19T00:00:00</td>\n",
              "      <td>1</td>\n",
              "      <td>20</td>\n",
              "    </tr>\n",
              "    <tr>\n",
              "      <th>203500</th>\n",
              "      <td>Steven Adams</td>\n",
              "      <td>Grizzlies</td>\n",
              "      <td>Center</td>\n",
              "      <td>6-11</td>\n",
              "      <td>265</td>\n",
              "      <td>New Zealand</td>\n",
              "      <td>1993-07-20T00:00:00</td>\n",
              "      <td>8</td>\n",
              "      <td>12</td>\n",
              "    </tr>\n",
              "    <tr>\n",
              "      <th>1628389</th>\n",
              "      <td>Bam Adebayo</td>\n",
              "      <td>Heat</td>\n",
              "      <td>Center-Forward</td>\n",
              "      <td>6-9</td>\n",
              "      <td>255</td>\n",
              "      <td>USA</td>\n",
              "      <td>1997-07-18T00:00:00</td>\n",
              "      <td>4</td>\n",
              "      <td>14</td>\n",
              "    </tr>\n",
              "    <tr>\n",
              "      <th>1630583</th>\n",
              "      <td>Santi Aldama</td>\n",
              "      <td>Grizzlies</td>\n",
              "      <td>Forward-Center</td>\n",
              "      <td>6-11</td>\n",
              "      <td>215</td>\n",
              "      <td>Spain</td>\n",
              "      <td>2001-01-10T00:00:00</td>\n",
              "      <td>0</td>\n",
              "      <td>30</td>\n",
              "    </tr>\n",
              "    <tr>\n",
              "      <th>200746</th>\n",
              "      <td>LaMarcus Aldridge</td>\n",
              "      <td>Nets</td>\n",
              "      <td>Center-Forward</td>\n",
              "      <td>6-11</td>\n",
              "      <td>250</td>\n",
              "      <td>USA</td>\n",
              "      <td>1985-07-19T00:00:00</td>\n",
              "      <td>15</td>\n",
              "      <td>2</td>\n",
              "    </tr>\n",
              "  </tbody>\n",
              "</table>\n",
              "</div>"
            ]
          },
          "metadata": {},
          "execution_count": 7
        }
      ]
    },
    {
      "cell_type": "code",
      "source": [
        "players_personal_info.info()"
      ],
      "metadata": {
        "colab": {
          "base_uri": "https://localhost:8080/"
        },
        "id": "bB-eBs4GecVL",
        "outputId": "2ae475bd-7ac4-4cc9-fd3f-c833fceba54e"
      },
      "id": "bB-eBs4GecVL",
      "execution_count": 8,
      "outputs": [
        {
          "output_type": "stream",
          "name": "stdout",
          "text": [
            "<class 'pandas.core.frame.DataFrame'>\n",
            "Int64Index: 503 entries, 1630173 to 1627826\n",
            "Data columns (total 9 columns):\n",
            " #   Column              Non-Null Count  Dtype \n",
            "---  ------              --------------  ----- \n",
            " 0   DISPLAY_FIRST_LAST  503 non-null    object\n",
            " 1   TEAM_NAME           503 non-null    object\n",
            " 2   POSITION            503 non-null    object\n",
            " 3   HEIGHT              503 non-null    object\n",
            " 4   WEIGHT              503 non-null    object\n",
            " 5   COUNTRY             503 non-null    object\n",
            " 6   BIRTHDATE           503 non-null    object\n",
            " 7   SEASON_EXP          503 non-null    int64 \n",
            " 8   DRAFT_NUMBER        497 non-null    object\n",
            "dtypes: int64(1), object(8)\n",
            "memory usage: 39.3+ KB\n"
          ]
        }
      ]
    },
    {
      "cell_type": "markdown",
      "id": "299218a4-1d90-4f55-822a-ec059474ea69",
      "metadata": {
        "id": "299218a4-1d90-4f55-822a-ec059474ea69"
      },
      "source": [
        "3- Create a function to find players career statistics, store the information in a CSV file called \"nba_players_career_stats.csv\""
      ]
    },
    {
      "cell_type": "code",
      "source": [
        "### Complete in this cell: find players career stats, save to csv file\n",
        "\n",
        "def get_players_career_stats(current_players_list):\n",
        "  info_player = []\n",
        "  for id in current_players_list:\n",
        "    career = playercareerstats.PlayerCareerStats(per_mode36=\"PerGame\", player_id = id).career_totals_regular_season\n",
        "    info_player.append(career)\n",
        "    clear_output(wait=True)\n",
        "    print(str(round(len(info_player)/len(current_players_list)*100,2)) + \"%\")\n",
        "    time.sleep(0.2)\n",
        "  data_players_stats = info_player[0].get_data_frame()\n",
        "  data_players_stats = data_players_stats[[\"PLAYER_ID\", \"GP\", \"MIN\", \"PTS\", \"REB\", \"AST\", \"STL\", \"BLK\"]] \n",
        "  for player in range(1,len(info_player)):\n",
        "    data = info_player[player].get_data_frame()\n",
        "    data = data[[\"PLAYER_ID\", \"GP\", \"MIN\", \"PTS\", \"REB\", \"AST\", \"STL\", \"BLK\"]]  \n",
        "    data_players_stats = pd.concat([data_players_stats, data ], ignore_index=True)\n",
        "  data_players_stats.drop_duplicates(inplace=True, subset = [\"PLAYER_ID\"], keep = \"first\")\n",
        "  data_players_stats.set_index(data_players_stats.PLAYER_ID, inplace=True)\n",
        "  data_players_stats.drop([\"PLAYER_ID\"], axis=1, inplace=True)\n",
        "  data_players_stats.index.name = None\n",
        "  return data_players_stats"
      ],
      "metadata": {
        "id": "2TyZCW7rdvS_"
      },
      "id": "2TyZCW7rdvS_",
      "execution_count": 9,
      "outputs": []
    },
    {
      "cell_type": "code",
      "execution_count": 10,
      "id": "af100c14-2b06-4019-8a6a-6299f66da4df",
      "metadata": {
        "id": "af100c14-2b06-4019-8a6a-6299f66da4df",
        "colab": {
          "base_uri": "https://localhost:8080/"
        },
        "outputId": "503b51a1-84e1-49fd-bf5b-2aee2276dff5"
      },
      "outputs": [
        {
          "output_type": "stream",
          "name": "stdout",
          "text": [
            "100.0%\n"
          ]
        }
      ],
      "source": [
        "players_career_stats = get_players_career_stats(current_players_list)\n",
        "#players_career_stats.to_csv(\"C:/Users/dgenz/Repositorios/Anyone_sprint1/players_career_stats.csv\")"
      ]
    },
    {
      "cell_type": "code",
      "source": [
        "players_career_stats.head()"
      ],
      "metadata": {
        "colab": {
          "base_uri": "https://localhost:8080/",
          "height": 206
        },
        "id": "K6F9vEcPLTnk",
        "outputId": "50990487-0497-4d4b-e5be-d9546c7ed3de"
      },
      "id": "K6F9vEcPLTnk",
      "execution_count": 11,
      "outputs": [
        {
          "output_type": "execute_result",
          "data": {
            "text/plain": [
              "           GP   MIN   PTS  REB  AST  STL  BLK\n",
              "1630173   134  18.4   7.2  5.1  0.8  0.4  0.5\n",
              "203500    664  26.8   9.3  8.0  1.5  0.9  0.9\n",
              "1628389   343  28.2  13.5  8.3  3.5  1.0  0.9\n",
              "1630583    32  11.2   4.1  2.7  0.7  0.2  0.3\n",
              "200746   1076  33.7  19.1  8.1  1.9  0.7  1.1"
            ],
            "text/html": [
              "<div>\n",
              "<style scoped>\n",
              "    .dataframe tbody tr th:only-of-type {\n",
              "        vertical-align: middle;\n",
              "    }\n",
              "\n",
              "    .dataframe tbody tr th {\n",
              "        vertical-align: top;\n",
              "    }\n",
              "\n",
              "    .dataframe thead th {\n",
              "        text-align: right;\n",
              "    }\n",
              "</style>\n",
              "<table border=\"1\" class=\"dataframe\">\n",
              "  <thead>\n",
              "    <tr style=\"text-align: right;\">\n",
              "      <th></th>\n",
              "      <th>GP</th>\n",
              "      <th>MIN</th>\n",
              "      <th>PTS</th>\n",
              "      <th>REB</th>\n",
              "      <th>AST</th>\n",
              "      <th>STL</th>\n",
              "      <th>BLK</th>\n",
              "    </tr>\n",
              "  </thead>\n",
              "  <tbody>\n",
              "    <tr>\n",
              "      <th>1630173</th>\n",
              "      <td>134</td>\n",
              "      <td>18.4</td>\n",
              "      <td>7.2</td>\n",
              "      <td>5.1</td>\n",
              "      <td>0.8</td>\n",
              "      <td>0.4</td>\n",
              "      <td>0.5</td>\n",
              "    </tr>\n",
              "    <tr>\n",
              "      <th>203500</th>\n",
              "      <td>664</td>\n",
              "      <td>26.8</td>\n",
              "      <td>9.3</td>\n",
              "      <td>8.0</td>\n",
              "      <td>1.5</td>\n",
              "      <td>0.9</td>\n",
              "      <td>0.9</td>\n",
              "    </tr>\n",
              "    <tr>\n",
              "      <th>1628389</th>\n",
              "      <td>343</td>\n",
              "      <td>28.2</td>\n",
              "      <td>13.5</td>\n",
              "      <td>8.3</td>\n",
              "      <td>3.5</td>\n",
              "      <td>1.0</td>\n",
              "      <td>0.9</td>\n",
              "    </tr>\n",
              "    <tr>\n",
              "      <th>1630583</th>\n",
              "      <td>32</td>\n",
              "      <td>11.2</td>\n",
              "      <td>4.1</td>\n",
              "      <td>2.7</td>\n",
              "      <td>0.7</td>\n",
              "      <td>0.2</td>\n",
              "      <td>0.3</td>\n",
              "    </tr>\n",
              "    <tr>\n",
              "      <th>200746</th>\n",
              "      <td>1076</td>\n",
              "      <td>33.7</td>\n",
              "      <td>19.1</td>\n",
              "      <td>8.1</td>\n",
              "      <td>1.9</td>\n",
              "      <td>0.7</td>\n",
              "      <td>1.1</td>\n",
              "    </tr>\n",
              "  </tbody>\n",
              "</table>\n",
              "</div>"
            ]
          },
          "metadata": {},
          "execution_count": 11
        }
      ]
    },
    {
      "cell_type": "code",
      "execution_count": 12,
      "id": "a077c5b4-28c9-4d16-b559-0b1e5caac837",
      "metadata": {
        "id": "a077c5b4-28c9-4d16-b559-0b1e5caac837",
        "colab": {
          "base_uri": "https://localhost:8080/"
        },
        "outputId": "f874bcf8-e78d-4f77-8e40-5c40ae631297"
      },
      "outputs": [
        {
          "output_type": "stream",
          "name": "stdout",
          "text": [
            "<class 'pandas.core.frame.DataFrame'>\n",
            "Int64Index: 503 entries, 1630173 to 1627826\n",
            "Data columns (total 7 columns):\n",
            " #   Column  Non-Null Count  Dtype  \n",
            "---  ------  --------------  -----  \n",
            " 0   GP      503 non-null    int64  \n",
            " 1   MIN     503 non-null    float64\n",
            " 2   PTS     503 non-null    float64\n",
            " 3   REB     503 non-null    float64\n",
            " 4   AST     503 non-null    float64\n",
            " 5   STL     503 non-null    float64\n",
            " 6   BLK     503 non-null    float64\n",
            "dtypes: float64(6), int64(1)\n",
            "memory usage: 31.4 KB\n"
          ]
        }
      ],
      "source": [
        "players_career_stats.info()"
      ]
    },
    {
      "cell_type": "markdown",
      "id": "68a65d51-6847-4811-b57f-1f858c27decd",
      "metadata": {
        "id": "68a65d51-6847-4811-b57f-1f858c27decd"
      },
      "source": [
        "4- Create a function to find players next games and save the information to a csv call \"nba_players_next_game.csv\""
      ]
    },
    {
      "cell_type": "code",
      "execution_count": 13,
      "id": "9c3b9b62-4eb8-434b-b808-ec94154b2a50",
      "metadata": {
        "id": "9c3b9b62-4eb8-434b-b808-ec94154b2a50"
      },
      "outputs": [],
      "source": [
        "### Complete in this cell: find players next game\n",
        "###REVISAR\n",
        "def get_players_next_game(current_players_list):\n",
        "  players_next_game = []\n",
        "  data_teams_final =  pd.DataFrame(current_players_list)\n",
        "  data_teams_final.columns = [\"PLAYER_ID\"]\n",
        "  data_teams_final.index = list(range(0,len(current_players_list)))\n",
        "  for id in current_players_list:\n",
        "    next_game = playerprofilev2.PlayerProfileV2(player_id= id).next_game\n",
        "    players_next_game.append(next_game)\n",
        "    clear_output(wait=True)\n",
        "    print(str(round(len(players_next_game)/len(current_players_list)*100,2)) + \"%\")\n",
        "    time.sleep(0.5)\n",
        "  data_teams = players_next_game[0].get_data_frame()\n",
        "  for team_n in range(1,len(players_next_game)):\n",
        "    data_teams = pd.concat([data_teams,players_next_game[team_n].get_data_frame()], ignore_index=True)\n",
        "  data_teams_final[\"GAME_DATE\"] = data_teams[\"GAME_DATE\"]\n",
        "  data_teams_final.set_index(data_teams_final.PLAYER_ID, inplace=True)\n",
        "  data_teams_final.drop([\"PLAYER_ID\"], axis=1, inplace=True)\n",
        "  data_teams_final.index.name = None\n",
        "  return data_teams_final"
      ]
    },
    {
      "cell_type": "code",
      "execution_count": 14,
      "id": "17915222-3606-4bb2-93e6-27d98eea7c7b",
      "metadata": {
        "id": "17915222-3606-4bb2-93e6-27d98eea7c7b",
        "colab": {
          "base_uri": "https://localhost:8080/"
        },
        "outputId": "885dd2e0-df03-42f9-f5a8-9cd37d70ce95"
      },
      "outputs": [
        {
          "output_type": "stream",
          "name": "stdout",
          "text": [
            "100.0%\n"
          ]
        }
      ],
      "source": [
        "players_next_game = get_players_next_game(current_players_list)\n",
        "#players_next_game.to_csv(\"C:/Users/dgenz/Repositorios/Anyone_sprint1/players_next_game.csv\")"
      ]
    },
    {
      "cell_type": "code",
      "source": [
        "players_next_game.head()"
      ],
      "metadata": {
        "colab": {
          "base_uri": "https://localhost:8080/",
          "height": 206
        },
        "id": "aUO5HGk2UElo",
        "outputId": "dc2ef7ee-957f-4ff3-b1c4-2daeb2af7b3c"
      },
      "id": "aUO5HGk2UElo",
      "execution_count": 15,
      "outputs": [
        {
          "output_type": "execute_result",
          "data": {
            "text/plain": [
              "           GAME_DATE\n",
              "1630173  APR 16 2022\n",
              "203500   APR 16 2022\n",
              "1628389  APR 17 2022\n",
              "1630583  APR 16 2022\n",
              "200746   APR 17 2022"
            ],
            "text/html": [
              "<div>\n",
              "<style scoped>\n",
              "    .dataframe tbody tr th:only-of-type {\n",
              "        vertical-align: middle;\n",
              "    }\n",
              "\n",
              "    .dataframe tbody tr th {\n",
              "        vertical-align: top;\n",
              "    }\n",
              "\n",
              "    .dataframe thead th {\n",
              "        text-align: right;\n",
              "    }\n",
              "</style>\n",
              "<table border=\"1\" class=\"dataframe\">\n",
              "  <thead>\n",
              "    <tr style=\"text-align: right;\">\n",
              "      <th></th>\n",
              "      <th>GAME_DATE</th>\n",
              "    </tr>\n",
              "  </thead>\n",
              "  <tbody>\n",
              "    <tr>\n",
              "      <th>1630173</th>\n",
              "      <td>APR 16 2022</td>\n",
              "    </tr>\n",
              "    <tr>\n",
              "      <th>203500</th>\n",
              "      <td>APR 16 2022</td>\n",
              "    </tr>\n",
              "    <tr>\n",
              "      <th>1628389</th>\n",
              "      <td>APR 17 2022</td>\n",
              "    </tr>\n",
              "    <tr>\n",
              "      <th>1630583</th>\n",
              "      <td>APR 16 2022</td>\n",
              "    </tr>\n",
              "    <tr>\n",
              "      <th>200746</th>\n",
              "      <td>APR 17 2022</td>\n",
              "    </tr>\n",
              "  </tbody>\n",
              "</table>\n",
              "</div>"
            ]
          },
          "metadata": {},
          "execution_count": 15
        }
      ]
    },
    {
      "cell_type": "code",
      "source": [
        "players_next_game.info()"
      ],
      "metadata": {
        "id": "VUKpkqMTlTI7",
        "colab": {
          "base_uri": "https://localhost:8080/"
        },
        "outputId": "5bff14ea-31c8-446f-edab-2ff85670677b"
      },
      "id": "VUKpkqMTlTI7",
      "execution_count": 16,
      "outputs": [
        {
          "output_type": "stream",
          "name": "stdout",
          "text": [
            "<class 'pandas.core.frame.DataFrame'>\n",
            "Int64Index: 503 entries, 1630173 to 1627826\n",
            "Data columns (total 1 columns):\n",
            " #   Column     Non-Null Count  Dtype \n",
            "---  ------     --------------  ----- \n",
            " 0   GAME_DATE  235 non-null    object\n",
            "dtypes: object(1)\n",
            "memory usage: 7.9+ KB\n"
          ]
        }
      ]
    },
    {
      "cell_type": "markdown",
      "id": "55b8ce09-e5d9-4f82-87db-ffe2916cc431",
      "metadata": {
        "id": "55b8ce09-e5d9-4f82-87db-ffe2916cc431"
      },
      "source": [
        "5- Create a function to find players salary for this season, save the information to a csv called \"nba_players_salary.csv\". Make sure the players names format match the ones in the API, otherwise you won't be able to merge the data later."
      ]
    },
    {
      "cell_type": "markdown",
      "id": "10da071b-ca7d-429e-bb85-e731cd66abb7",
      "metadata": {
        "id": "10da071b-ca7d-429e-bb85-e731cd66abb7"
      },
      "source": [
        "Hint: Using data from the Basketball Reference page, you will have to solve 2 kinds of problems, duplicated values (for which you should keep just the first value) and players names not matching with the ones from the API. The latter problem has multiple causes, one of them is that some names are written with non ascii characters (there are libraries for dealing with that)."
      ]
    },
    {
      "cell_type": "code",
      "execution_count": 39,
      "id": "cecfecb4-62bb-41b9-b4ae-13b57c3e2198",
      "metadata": {
        "id": "cecfecb4-62bb-41b9-b4ae-13b57c3e2198"
      },
      "outputs": [],
      "source": [
        "### Complete in this cell: find players salary, save the information to csv\n",
        "def elimina_tildes(cadena):\n",
        "  s = ''.join((c for c in unicodedata.normalize('NFD',cadena) if unicodedata.category(c) != 'Mn'))\n",
        "  return s\n",
        "\n",
        "def get_nba_players_salaries(csv_file_path):\n",
        "    salaries = pd.read_csv(\"Salarios(2021_22).csv\", encoding=\"latin1\", sep = \";\")  \n",
        "    salaries = salaries[[\"Player\", \"Salary 2021-22\"]]\n",
        "    for per in range(0,len(salaries.Player)):\n",
        "      try:\n",
        "        salaries.Player[per] = elimina_tildes(salaries.Player[per])\n",
        "      except:\n",
        "        pass\n",
        "    m = list(salaries.Player.copy())\n",
        "    c = list(players_personal_info.DISPLAY_FIRST_LAST.copy())\n",
        "    tot = 0\n",
        "    names = []\n",
        "    for nom in c:\n",
        "      for nom_m in m:\n",
        "        output = int(difflib.SequenceMatcher(None, nom_m.rsplit(' ', 2)[0], nom.rsplit(' ', 2)[0]).ratio()*100)\n",
        "        output2 = int(difflib.SequenceMatcher(None, nom_m.rsplit(' ', 2)[1], nom.rsplit(' ', 2)[1]).ratio()*100)\n",
        "        par = (output + output2)/2\n",
        "        if par>=75:\n",
        "          tot+=1\n",
        "          m[m.index(nom_m)] = c[c.index(nom)]\n",
        "          names.append([nom,nom_m])\n",
        "          break\n",
        "    salaries.Player = m.copy()\n",
        "    salaries.Player = salaries.Player.str.lower()    \n",
        "    salaries.drop_duplicates(subset=[\"Player\"], inplace= True, ignore_index=True)\n",
        "    salaries.dropna(subset=[\"Salary 2021-22\"], inplace=True)\n",
        "    salaries.rename({\"Salary 2021-22\":\"SALARY\"}, inplace=True, axis=1)\n",
        "    return salaries[[\"Player\",\"SALARY\"]]"
      ]
    },
    {
      "cell_type": "code",
      "execution_count": 40,
      "id": "72f0edd5-c702-463e-8e17-4270a3131bba",
      "metadata": {
        "id": "72f0edd5-c702-463e-8e17-4270a3131bba"
      },
      "outputs": [],
      "source": [
        "players_salaries = get_nba_players_salaries(\"contracts.csv\")\n",
        "#players_salaries.to_csv(\"C:/Users/dgenz/Repositorios/Anyone_sprint1/players_salaries.csv\")"
      ]
    },
    {
      "cell_type": "code",
      "source": [
        "players_salaries.head()"
      ],
      "metadata": {
        "id": "w_oNpbZGrDna",
        "colab": {
          "base_uri": "https://localhost:8080/",
          "height": 206
        },
        "outputId": "58f105f0-6e5c-4d7b-fe88-85dba168ae08"
      },
      "id": "w_oNpbZGrDna",
      "execution_count": 41,
      "outputs": [
        {
          "output_type": "execute_result",
          "data": {
            "text/plain": [
              "              Player       SALARY\n",
              "0      stephen curry  $45,780,966\n",
              "1          john wall  $44,310,840\n",
              "2  russell westbrook  $44,211,146\n",
              "3       james harden  $43,848,000\n",
              "4       lebron james  $41,180,544"
            ],
            "text/html": [
              "<div>\n",
              "<style scoped>\n",
              "    .dataframe tbody tr th:only-of-type {\n",
              "        vertical-align: middle;\n",
              "    }\n",
              "\n",
              "    .dataframe tbody tr th {\n",
              "        vertical-align: top;\n",
              "    }\n",
              "\n",
              "    .dataframe thead th {\n",
              "        text-align: right;\n",
              "    }\n",
              "</style>\n",
              "<table border=\"1\" class=\"dataframe\">\n",
              "  <thead>\n",
              "    <tr style=\"text-align: right;\">\n",
              "      <th></th>\n",
              "      <th>Player</th>\n",
              "      <th>SALARY</th>\n",
              "    </tr>\n",
              "  </thead>\n",
              "  <tbody>\n",
              "    <tr>\n",
              "      <th>0</th>\n",
              "      <td>stephen curry</td>\n",
              "      <td>$45,780,966</td>\n",
              "    </tr>\n",
              "    <tr>\n",
              "      <th>1</th>\n",
              "      <td>john wall</td>\n",
              "      <td>$44,310,840</td>\n",
              "    </tr>\n",
              "    <tr>\n",
              "      <th>2</th>\n",
              "      <td>russell westbrook</td>\n",
              "      <td>$44,211,146</td>\n",
              "    </tr>\n",
              "    <tr>\n",
              "      <th>3</th>\n",
              "      <td>james harden</td>\n",
              "      <td>$43,848,000</td>\n",
              "    </tr>\n",
              "    <tr>\n",
              "      <th>4</th>\n",
              "      <td>lebron james</td>\n",
              "      <td>$41,180,544</td>\n",
              "    </tr>\n",
              "  </tbody>\n",
              "</table>\n",
              "</div>"
            ]
          },
          "metadata": {},
          "execution_count": 41
        }
      ]
    },
    {
      "cell_type": "code",
      "source": [
        "players_salaries.info()"
      ],
      "metadata": {
        "id": "jpTrrQQileI7",
        "colab": {
          "base_uri": "https://localhost:8080/"
        },
        "outputId": "d65d7fa0-99fa-4db5-ed77-b68d73072103"
      },
      "id": "jpTrrQQileI7",
      "execution_count": 34,
      "outputs": [
        {
          "output_type": "stream",
          "name": "stdout",
          "text": [
            "<class 'pandas.core.frame.DataFrame'>\n",
            "Int64Index: 489 entries, 0 to 509\n",
            "Data columns (total 2 columns):\n",
            " #   Column          Non-Null Count  Dtype \n",
            "---  ------          --------------  ----- \n",
            " 0   Player          489 non-null    object\n",
            " 1   Salary 2021-22  489 non-null    object\n",
            "dtypes: object(2)\n",
            "memory usage: 11.5+ KB\n"
          ]
        }
      ]
    },
    {
      "cell_type": "markdown",
      "id": "5bd1cb5a-d9d1-454e-80d3-81521ac1d94e",
      "metadata": {
        "id": "5bd1cb5a-d9d1-454e-80d3-81521ac1d94e"
      },
      "source": [
        "6- Create a function to merge the created dataframes: players_personal_info, players_career_stats, players_next_game, players_salaries. For each dataframe, select only the subset of columns needed to create the dataset described in section \"The Dataset\"\n",
        "\n",
        "    - Players info: \"PLAYER_NAME\", \"TEAM_NAME\", \"POSITION\", \"HEIGHT\", \"WEIGHT\", \"COUNTRY\", \"BIRTHDATE\", \"SEASON_EXP\", \"DRAFT_NUMBER\"\n",
        "    - Players stats: \"GP\", \"MIN\", \"PTS\", \"REB\", \"AST\", \"STL\", \"BLK\"\n",
        "    - Misc: \"GAME_DATE\", \"SALARY\"\n",
        "\n",
        "Save the result to a csv called \"raw_nba_players_dataset.csv\""
      ]
    },
    {
      "cell_type": "markdown",
      "id": "4bb26887-9030-49dd-aa24-6433df8d6f50",
      "metadata": {
        "id": "4bb26887-9030-49dd-aa24-6433df8d6f50"
      },
      "source": [
        "Hint: Before merging the data, you should make sure all four dataframes have the same length, are indexed by PERSON_ID and have the same keys"
      ]
    },
    {
      "cell_type": "code",
      "execution_count": 42,
      "id": "81bb411a-ecf4-4cd8-8cd8-2d9259397324",
      "metadata": {
        "id": "81bb411a-ecf4-4cd8-8cd8-2d9259397324"
      },
      "outputs": [],
      "source": [
        "### Complete in this cell: merge the dataframes\n",
        "\n",
        "def merge_dataframes(players_personal_info, players_career_stats, players_next_game, players_salaries):\n",
        "  raw_players_dataset = pd.merge(left=players_personal_info, right=players_career_stats, left_on=players_personal_info.index, right_on=players_career_stats.index, indicator=False)\n",
        "  raw_players_dataset.set_index(raw_players_dataset.key_0, inplace=True)\n",
        "  raw_players_dataset.drop(\"key_0\", axis=1, inplace=True)\n",
        "  raw_players_dataset = pd.merge(left=raw_players_dataset, right=players_next_game, left_on=raw_players_dataset.index, right_on=players_next_game.index, indicator=False)\n",
        "  raw_players_dataset.set_index(raw_players_dataset.key_0, inplace=True)\n",
        "  raw_players_dataset.rename({\"key_0\":\"PLAYER_ID\"}, axis=1, inplace=True)\n",
        "  raw_players_dataset = pd.merge(left=raw_players_dataset, right=players_salaries, left_on=raw_players_dataset.DISPLAY_FIRST_LAST.str.lower() , right_on=players_salaries.Player.str.lower(), indicator=False)\n",
        "  raw_players_dataset.set_index(raw_players_dataset.PLAYER_ID, inplace=True)\n",
        "  names = []\n",
        "  for i in raw_players_dataset.DISPLAY_FIRST_LAST:\n",
        "    names.append(str(i.title()))\n",
        "  raw_players_dataset.DISPLAY_FIRST_LAST = names\n",
        "  raw_players_dataset.rename({\"DISPLAY_FIRST_LAST\":\"PLAYER_NAME\"}, axis=1, inplace=True)\n",
        "  raw_players_dataset.drop([\"key_0\",\"PLAYER_ID\",\"Player\"], axis=1, inplace=True)\n",
        "  raw_players_dataset.index.name = None\n",
        "  raw_players_dataset.drop_duplicates(subset =[\"PLAYER_NAME\"], inplace=True)\n",
        "  return raw_players_dataset"
      ]
    },
    {
      "cell_type": "code",
      "execution_count": 83,
      "id": "388ceb75-3de2-4e28-a10a-d389d7617905",
      "metadata": {
        "id": "388ceb75-3de2-4e28-a10a-d389d7617905"
      },
      "outputs": [],
      "source": [
        "raw_players_dataset = merge_dataframes(players_personal_info, players_career_stats, players_next_game, players_salaries)\n",
        "#raw_players_dataset.to_csv(\"C:/Users/dgenz/Repositorios/Anyone_sprint1/raw_players_dataset.csv\")"
      ]
    },
    {
      "cell_type": "code",
      "source": [
        "raw_players_dataset.head()"
      ],
      "metadata": {
        "id": "O5oBZdzJ5wGf",
        "colab": {
          "base_uri": "https://localhost:8080/",
          "height": 293
        },
        "outputId": "dc067be9-3db8-4efd-884a-ff1c3578346c"
      },
      "id": "O5oBZdzJ5wGf",
      "execution_count": 84,
      "outputs": [
        {
          "output_type": "execute_result",
          "data": {
            "text/plain": [
              "               PLAYER_NAME  TEAM_NAME        POSITION HEIGHT WEIGHT  \\\n",
              "1630173   Precious Achiuwa    Raptors         Forward    6-8    225   \n",
              "203500        Steven Adams  Grizzlies          Center   6-11    265   \n",
              "1628389        Bam Adebayo       Heat  Center-Forward    6-9    255   \n",
              "1630583       Santi Aldama  Grizzlies  Forward-Center   6-11    215   \n",
              "200746   Lamarcus Aldridge       Nets  Center-Forward   6-11    250   \n",
              "\n",
              "             COUNTRY            BIRTHDATE  SEASON_EXP DRAFT_NUMBER    GP  \\\n",
              "1630173      Nigeria  1999-09-19T00:00:00           1           20   134   \n",
              "203500   New Zealand  1993-07-20T00:00:00           8           12   664   \n",
              "1628389          USA  1997-07-18T00:00:00           4           14   343   \n",
              "1630583        Spain  2001-01-10T00:00:00           0           30    32   \n",
              "200746           USA  1985-07-19T00:00:00          15            2  1076   \n",
              "\n",
              "          MIN   PTS  REB  AST  STL  BLK    GAME_DATE       SALARY  \n",
              "1630173  18.4   7.2  5.1  0.8  0.4  0.5  APR 16 2022   $2,711,280  \n",
              "203500   26.8   9.3  8.0  1.5  0.9  0.9  APR 16 2022  $17,073,171  \n",
              "1628389  28.2  13.5  8.3  3.5  1.0  0.9  APR 17 2022  $28,103,550  \n",
              "1630583  11.2   4.1  2.7  0.7  0.2  0.3  APR 16 2022   $1,994,520  \n",
              "200746   33.7  19.1  8.1  1.9  0.7  1.1  APR 17 2022   $2,641,691  "
            ],
            "text/html": [
              "<div>\n",
              "<style scoped>\n",
              "    .dataframe tbody tr th:only-of-type {\n",
              "        vertical-align: middle;\n",
              "    }\n",
              "\n",
              "    .dataframe tbody tr th {\n",
              "        vertical-align: top;\n",
              "    }\n",
              "\n",
              "    .dataframe thead th {\n",
              "        text-align: right;\n",
              "    }\n",
              "</style>\n",
              "<table border=\"1\" class=\"dataframe\">\n",
              "  <thead>\n",
              "    <tr style=\"text-align: right;\">\n",
              "      <th></th>\n",
              "      <th>PLAYER_NAME</th>\n",
              "      <th>TEAM_NAME</th>\n",
              "      <th>POSITION</th>\n",
              "      <th>HEIGHT</th>\n",
              "      <th>WEIGHT</th>\n",
              "      <th>COUNTRY</th>\n",
              "      <th>BIRTHDATE</th>\n",
              "      <th>SEASON_EXP</th>\n",
              "      <th>DRAFT_NUMBER</th>\n",
              "      <th>GP</th>\n",
              "      <th>MIN</th>\n",
              "      <th>PTS</th>\n",
              "      <th>REB</th>\n",
              "      <th>AST</th>\n",
              "      <th>STL</th>\n",
              "      <th>BLK</th>\n",
              "      <th>GAME_DATE</th>\n",
              "      <th>SALARY</th>\n",
              "    </tr>\n",
              "  </thead>\n",
              "  <tbody>\n",
              "    <tr>\n",
              "      <th>1630173</th>\n",
              "      <td>Precious Achiuwa</td>\n",
              "      <td>Raptors</td>\n",
              "      <td>Forward</td>\n",
              "      <td>6-8</td>\n",
              "      <td>225</td>\n",
              "      <td>Nigeria</td>\n",
              "      <td>1999-09-19T00:00:00</td>\n",
              "      <td>1</td>\n",
              "      <td>20</td>\n",
              "      <td>134</td>\n",
              "      <td>18.4</td>\n",
              "      <td>7.2</td>\n",
              "      <td>5.1</td>\n",
              "      <td>0.8</td>\n",
              "      <td>0.4</td>\n",
              "      <td>0.5</td>\n",
              "      <td>APR 16 2022</td>\n",
              "      <td>$2,711,280</td>\n",
              "    </tr>\n",
              "    <tr>\n",
              "      <th>203500</th>\n",
              "      <td>Steven Adams</td>\n",
              "      <td>Grizzlies</td>\n",
              "      <td>Center</td>\n",
              "      <td>6-11</td>\n",
              "      <td>265</td>\n",
              "      <td>New Zealand</td>\n",
              "      <td>1993-07-20T00:00:00</td>\n",
              "      <td>8</td>\n",
              "      <td>12</td>\n",
              "      <td>664</td>\n",
              "      <td>26.8</td>\n",
              "      <td>9.3</td>\n",
              "      <td>8.0</td>\n",
              "      <td>1.5</td>\n",
              "      <td>0.9</td>\n",
              "      <td>0.9</td>\n",
              "      <td>APR 16 2022</td>\n",
              "      <td>$17,073,171</td>\n",
              "    </tr>\n",
              "    <tr>\n",
              "      <th>1628389</th>\n",
              "      <td>Bam Adebayo</td>\n",
              "      <td>Heat</td>\n",
              "      <td>Center-Forward</td>\n",
              "      <td>6-9</td>\n",
              "      <td>255</td>\n",
              "      <td>USA</td>\n",
              "      <td>1997-07-18T00:00:00</td>\n",
              "      <td>4</td>\n",
              "      <td>14</td>\n",
              "      <td>343</td>\n",
              "      <td>28.2</td>\n",
              "      <td>13.5</td>\n",
              "      <td>8.3</td>\n",
              "      <td>3.5</td>\n",
              "      <td>1.0</td>\n",
              "      <td>0.9</td>\n",
              "      <td>APR 17 2022</td>\n",
              "      <td>$28,103,550</td>\n",
              "    </tr>\n",
              "    <tr>\n",
              "      <th>1630583</th>\n",
              "      <td>Santi Aldama</td>\n",
              "      <td>Grizzlies</td>\n",
              "      <td>Forward-Center</td>\n",
              "      <td>6-11</td>\n",
              "      <td>215</td>\n",
              "      <td>Spain</td>\n",
              "      <td>2001-01-10T00:00:00</td>\n",
              "      <td>0</td>\n",
              "      <td>30</td>\n",
              "      <td>32</td>\n",
              "      <td>11.2</td>\n",
              "      <td>4.1</td>\n",
              "      <td>2.7</td>\n",
              "      <td>0.7</td>\n",
              "      <td>0.2</td>\n",
              "      <td>0.3</td>\n",
              "      <td>APR 16 2022</td>\n",
              "      <td>$1,994,520</td>\n",
              "    </tr>\n",
              "    <tr>\n",
              "      <th>200746</th>\n",
              "      <td>Lamarcus Aldridge</td>\n",
              "      <td>Nets</td>\n",
              "      <td>Center-Forward</td>\n",
              "      <td>6-11</td>\n",
              "      <td>250</td>\n",
              "      <td>USA</td>\n",
              "      <td>1985-07-19T00:00:00</td>\n",
              "      <td>15</td>\n",
              "      <td>2</td>\n",
              "      <td>1076</td>\n",
              "      <td>33.7</td>\n",
              "      <td>19.1</td>\n",
              "      <td>8.1</td>\n",
              "      <td>1.9</td>\n",
              "      <td>0.7</td>\n",
              "      <td>1.1</td>\n",
              "      <td>APR 17 2022</td>\n",
              "      <td>$2,641,691</td>\n",
              "    </tr>\n",
              "  </tbody>\n",
              "</table>\n",
              "</div>"
            ]
          },
          "metadata": {},
          "execution_count": 84
        }
      ]
    },
    {
      "cell_type": "code",
      "source": [
        "raw_players_dataset.info()"
      ],
      "metadata": {
        "id": "Y5t2H9iTZlvV",
        "colab": {
          "base_uri": "https://localhost:8080/"
        },
        "outputId": "7bbad378-9bfb-44de-9210-499538c6f8cb"
      },
      "id": "Y5t2H9iTZlvV",
      "execution_count": 46,
      "outputs": [
        {
          "output_type": "stream",
          "name": "stdout",
          "text": [
            "<class 'pandas.core.frame.DataFrame'>\n",
            "Int64Index: 441 entries, 1630173 to 1627826\n",
            "Data columns (total 18 columns):\n",
            " #   Column        Non-Null Count  Dtype  \n",
            "---  ------        --------------  -----  \n",
            " 0   PLAYER_NAME   441 non-null    object \n",
            " 1   TEAM_NAME     441 non-null    object \n",
            " 2   POSITION      441 non-null    object \n",
            " 3   HEIGHT        441 non-null    object \n",
            " 4   WEIGHT        441 non-null    object \n",
            " 5   COUNTRY       441 non-null    object \n",
            " 6   BIRTHDATE     441 non-null    object \n",
            " 7   SEASON_EXP    441 non-null    int64  \n",
            " 8   DRAFT_NUMBER  437 non-null    object \n",
            " 9   GP            441 non-null    int64  \n",
            " 10  MIN           441 non-null    float64\n",
            " 11  PTS           441 non-null    float64\n",
            " 12  REB           441 non-null    float64\n",
            " 13  AST           441 non-null    float64\n",
            " 14  STL           441 non-null    float64\n",
            " 15  BLK           441 non-null    float64\n",
            " 16  GAME_DATE     210 non-null    object \n",
            " 17  SALARY        441 non-null    object \n",
            "dtypes: float64(6), int64(2), object(10)\n",
            "memory usage: 65.5+ KB\n"
          ]
        }
      ]
    },
    {
      "cell_type": "markdown",
      "id": "b08b2775-dd82-415a-8a6e-46c51b8c3f2b",
      "metadata": {
        "id": "b08b2775-dd82-415a-8a6e-46c51b8c3f2b"
      },
      "source": [
        "## Data Cleaning and Preprocessing"
      ]
    },
    {
      "cell_type": "markdown",
      "id": "c52dd5c8-5536-4b0e-a51a-6d7ff4140c0b",
      "metadata": {
        "id": "c52dd5c8-5536-4b0e-a51a-6d7ff4140c0b"
      },
      "source": [
        "There are several steps that you will have to follow, depending on where you have collected the data some information might be missing.  \n",
        "\n",
        "- Height and weight might need to be converted to the metric system\n",
        "- Players that have no team assigned should be removed from the dataset\n",
        "- Players with no contracts (meaning they don't have a salary defined) should be removed from the dataset\n",
        "- If the \"position\" data is ambiguous (listed at multiple positions), use the first value\n",
        "- If the player does not have height or weight data, use the average for its position as its value\n",
        "- In order to fill the column next_game_date, just consider the date of the next game of each player's team. "
      ]
    },
    {
      "cell_type": "markdown",
      "id": "af006585-e338-429a-a0ef-2598430f8b32",
      "metadata": {
        "id": "af006585-e338-429a-a0ef-2598430f8b32"
      },
      "source": [
        "1- Create a copy of your dataset named \"working_df\", remove all players with no teams or salary"
      ]
    },
    {
      "cell_type": "code",
      "execution_count": 85,
      "id": "4327e4da-a3e0-4870-a7a4-abea76fb2205",
      "metadata": {
        "id": "4327e4da-a3e0-4870-a7a4-abea76fb2205"
      },
      "outputs": [],
      "source": [
        "### Complete in this cell: copy the dataset and drop NaNs in team or salary\n",
        "def copy_and_delete_nan(players_dataset):\n",
        "  working_df = players_dataset.copy()\n",
        "  working_df[\"SALARY\"].dropna(inplace=True)\n",
        "  working_df[\"TEAM_NAME\"].dropna(inplace=True)\n",
        "  return working_df"
      ]
    },
    {
      "cell_type": "code",
      "execution_count": 86,
      "id": "93e2d191-dadd-481c-91fa-ff5aac1c824b",
      "metadata": {
        "id": "93e2d191-dadd-481c-91fa-ff5aac1c824b"
      },
      "outputs": [],
      "source": [
        "working_df = copy_and_delete_nan(raw_players_dataset)"
      ]
    },
    {
      "cell_type": "markdown",
      "id": "9ccbdce4-cf4f-48e2-a597-49816f18a400",
      "metadata": {
        "id": "9ccbdce4-cf4f-48e2-a597-49816f18a400"
      },
      "source": [
        "*2*- Cast Salary, Birthday and Game Date columns to its corresponding type (int, datetime) "
      ]
    },
    {
      "cell_type": "code",
      "execution_count": 87,
      "id": "d3b4d50c-4677-4014-88cc-78f142811b8b",
      "metadata": {
        "id": "d3b4d50c-4677-4014-88cc-78f142811b8b"
      },
      "outputs": [],
      "source": [
        "### Complete in this cell: cast all columns to its type\n",
        "def cast_columns(working_df):\n",
        "  working_df['BIRTHDATE'] = pd.to_datetime(working_df.BIRTHDATE)\n",
        "  working_df['GAME_DATE'] = pd.to_datetime(working_df.GAME_DATE)\n",
        "  working_df[\"SALARY\"] = working_df[\"SALARY\"].str.replace('[\\$\\,]', '', regex=True).astype(int)\n",
        "  return working_df"
      ]
    },
    {
      "cell_type": "code",
      "execution_count": 88,
      "id": "680875dc-2478-4213-b2f7-4a1da03ec71f",
      "metadata": {
        "id": "680875dc-2478-4213-b2f7-4a1da03ec71f",
        "colab": {
          "base_uri": "https://localhost:8080/",
          "height": 423
        },
        "outputId": "2f1ec8a2-82a1-4fa9-f177-b117da09e22f"
      },
      "outputs": [
        {
          "output_type": "execute_result",
          "data": {
            "text/plain": [
              "               PLAYER_NAME  TEAM_NAME        POSITION HEIGHT WEIGHT  \\\n",
              "1630173   Precious Achiuwa    Raptors         Forward    6-8    225   \n",
              "203500        Steven Adams  Grizzlies          Center   6-11    265   \n",
              "1628389        Bam Adebayo       Heat  Center-Forward    6-9    255   \n",
              "1630583       Santi Aldama  Grizzlies  Forward-Center   6-11    215   \n",
              "200746   Lamarcus Aldridge       Nets  Center-Forward   6-11    250   \n",
              "...                    ...        ...             ...    ...    ...   \n",
              "1630218  Robert Woodard Ii      Spurs         Forward    6-6    235   \n",
              "1626153       Delon Wright      Hawks           Guard    6-5    185   \n",
              "1629027         Trae Young      Hawks           Guard    6-1    164   \n",
              "1630209     Omer Yurtseven       Heat          Center   6-11    275   \n",
              "1627826        Ivica Zubac   Clippers          Center    7-0    240   \n",
              "\n",
              "             COUNTRY  BIRTHDATE  SEASON_EXP DRAFT_NUMBER    GP   MIN   PTS  \\\n",
              "1630173      Nigeria 1999-09-19           1           20   134  18.4   7.2   \n",
              "203500   New Zealand 1993-07-20           8           12   664  26.8   9.3   \n",
              "1628389          USA 1997-07-18           4           14   343  28.2  13.5   \n",
              "1630583        Spain 2001-01-10           0           30    32  11.2   4.1   \n",
              "200746           USA 1985-07-19          15            2  1076  33.7  19.1   \n",
              "...              ...        ...         ...          ...   ...   ...   ...   \n",
              "1630218          USA 1999-09-22           1           40    25   3.5   1.1   \n",
              "1626153          USA 1992-04-26           6           20   411  20.9   7.2   \n",
              "1629027          USA 1998-09-19           3            5   280  33.6  25.3   \n",
              "1630209       Turkey 1998-06-19           0    Undrafted    56  12.6   5.3   \n",
              "1627826      Croatia 1997-03-18           5           32   360  19.0   8.3   \n",
              "\n",
              "         REB  AST  STL  BLK  GAME_DATE    SALARY  \n",
              "1630173  5.1  0.8  0.4  0.5 2022-04-16   2711280  \n",
              "203500   8.0  1.5  0.9  0.9 2022-04-16  17073171  \n",
              "1628389  8.3  3.5  1.0  0.9 2022-04-17  28103550  \n",
              "1630583  2.7  0.7  0.2  0.3 2022-04-16   1994520  \n",
              "200746   8.1  1.9  0.7  1.1 2022-04-17   2641691  \n",
              "...      ...  ...  ...  ...        ...       ...  \n",
              "1630218  1.1  0.2  0.0  0.2        NaT   1517981  \n",
              "1626153  3.2  3.0  1.2  0.4        NaT   8526316  \n",
              "1629027  3.9  9.1  0.9  0.2        NaT  14190000  \n",
              "1630209  5.3  0.9  0.3  0.4        NaT   1489065  \n",
              "1627826  6.5  1.1  0.3  0.8        NaT   7518518  \n",
              "\n",
              "[441 rows x 18 columns]"
            ],
            "text/html": [
              "<div>\n",
              "<style scoped>\n",
              "    .dataframe tbody tr th:only-of-type {\n",
              "        vertical-align: middle;\n",
              "    }\n",
              "\n",
              "    .dataframe tbody tr th {\n",
              "        vertical-align: top;\n",
              "    }\n",
              "\n",
              "    .dataframe thead th {\n",
              "        text-align: right;\n",
              "    }\n",
              "</style>\n",
              "<table border=\"1\" class=\"dataframe\">\n",
              "  <thead>\n",
              "    <tr style=\"text-align: right;\">\n",
              "      <th></th>\n",
              "      <th>PLAYER_NAME</th>\n",
              "      <th>TEAM_NAME</th>\n",
              "      <th>POSITION</th>\n",
              "      <th>HEIGHT</th>\n",
              "      <th>WEIGHT</th>\n",
              "      <th>COUNTRY</th>\n",
              "      <th>BIRTHDATE</th>\n",
              "      <th>SEASON_EXP</th>\n",
              "      <th>DRAFT_NUMBER</th>\n",
              "      <th>GP</th>\n",
              "      <th>MIN</th>\n",
              "      <th>PTS</th>\n",
              "      <th>REB</th>\n",
              "      <th>AST</th>\n",
              "      <th>STL</th>\n",
              "      <th>BLK</th>\n",
              "      <th>GAME_DATE</th>\n",
              "      <th>SALARY</th>\n",
              "    </tr>\n",
              "  </thead>\n",
              "  <tbody>\n",
              "    <tr>\n",
              "      <th>1630173</th>\n",
              "      <td>Precious Achiuwa</td>\n",
              "      <td>Raptors</td>\n",
              "      <td>Forward</td>\n",
              "      <td>6-8</td>\n",
              "      <td>225</td>\n",
              "      <td>Nigeria</td>\n",
              "      <td>1999-09-19</td>\n",
              "      <td>1</td>\n",
              "      <td>20</td>\n",
              "      <td>134</td>\n",
              "      <td>18.4</td>\n",
              "      <td>7.2</td>\n",
              "      <td>5.1</td>\n",
              "      <td>0.8</td>\n",
              "      <td>0.4</td>\n",
              "      <td>0.5</td>\n",
              "      <td>2022-04-16</td>\n",
              "      <td>2711280</td>\n",
              "    </tr>\n",
              "    <tr>\n",
              "      <th>203500</th>\n",
              "      <td>Steven Adams</td>\n",
              "      <td>Grizzlies</td>\n",
              "      <td>Center</td>\n",
              "      <td>6-11</td>\n",
              "      <td>265</td>\n",
              "      <td>New Zealand</td>\n",
              "      <td>1993-07-20</td>\n",
              "      <td>8</td>\n",
              "      <td>12</td>\n",
              "      <td>664</td>\n",
              "      <td>26.8</td>\n",
              "      <td>9.3</td>\n",
              "      <td>8.0</td>\n",
              "      <td>1.5</td>\n",
              "      <td>0.9</td>\n",
              "      <td>0.9</td>\n",
              "      <td>2022-04-16</td>\n",
              "      <td>17073171</td>\n",
              "    </tr>\n",
              "    <tr>\n",
              "      <th>1628389</th>\n",
              "      <td>Bam Adebayo</td>\n",
              "      <td>Heat</td>\n",
              "      <td>Center-Forward</td>\n",
              "      <td>6-9</td>\n",
              "      <td>255</td>\n",
              "      <td>USA</td>\n",
              "      <td>1997-07-18</td>\n",
              "      <td>4</td>\n",
              "      <td>14</td>\n",
              "      <td>343</td>\n",
              "      <td>28.2</td>\n",
              "      <td>13.5</td>\n",
              "      <td>8.3</td>\n",
              "      <td>3.5</td>\n",
              "      <td>1.0</td>\n",
              "      <td>0.9</td>\n",
              "      <td>2022-04-17</td>\n",
              "      <td>28103550</td>\n",
              "    </tr>\n",
              "    <tr>\n",
              "      <th>1630583</th>\n",
              "      <td>Santi Aldama</td>\n",
              "      <td>Grizzlies</td>\n",
              "      <td>Forward-Center</td>\n",
              "      <td>6-11</td>\n",
              "      <td>215</td>\n",
              "      <td>Spain</td>\n",
              "      <td>2001-01-10</td>\n",
              "      <td>0</td>\n",
              "      <td>30</td>\n",
              "      <td>32</td>\n",
              "      <td>11.2</td>\n",
              "      <td>4.1</td>\n",
              "      <td>2.7</td>\n",
              "      <td>0.7</td>\n",
              "      <td>0.2</td>\n",
              "      <td>0.3</td>\n",
              "      <td>2022-04-16</td>\n",
              "      <td>1994520</td>\n",
              "    </tr>\n",
              "    <tr>\n",
              "      <th>200746</th>\n",
              "      <td>Lamarcus Aldridge</td>\n",
              "      <td>Nets</td>\n",
              "      <td>Center-Forward</td>\n",
              "      <td>6-11</td>\n",
              "      <td>250</td>\n",
              "      <td>USA</td>\n",
              "      <td>1985-07-19</td>\n",
              "      <td>15</td>\n",
              "      <td>2</td>\n",
              "      <td>1076</td>\n",
              "      <td>33.7</td>\n",
              "      <td>19.1</td>\n",
              "      <td>8.1</td>\n",
              "      <td>1.9</td>\n",
              "      <td>0.7</td>\n",
              "      <td>1.1</td>\n",
              "      <td>2022-04-17</td>\n",
              "      <td>2641691</td>\n",
              "    </tr>\n",
              "    <tr>\n",
              "      <th>...</th>\n",
              "      <td>...</td>\n",
              "      <td>...</td>\n",
              "      <td>...</td>\n",
              "      <td>...</td>\n",
              "      <td>...</td>\n",
              "      <td>...</td>\n",
              "      <td>...</td>\n",
              "      <td>...</td>\n",
              "      <td>...</td>\n",
              "      <td>...</td>\n",
              "      <td>...</td>\n",
              "      <td>...</td>\n",
              "      <td>...</td>\n",
              "      <td>...</td>\n",
              "      <td>...</td>\n",
              "      <td>...</td>\n",
              "      <td>...</td>\n",
              "      <td>...</td>\n",
              "    </tr>\n",
              "    <tr>\n",
              "      <th>1630218</th>\n",
              "      <td>Robert Woodard Ii</td>\n",
              "      <td>Spurs</td>\n",
              "      <td>Forward</td>\n",
              "      <td>6-6</td>\n",
              "      <td>235</td>\n",
              "      <td>USA</td>\n",
              "      <td>1999-09-22</td>\n",
              "      <td>1</td>\n",
              "      <td>40</td>\n",
              "      <td>25</td>\n",
              "      <td>3.5</td>\n",
              "      <td>1.1</td>\n",
              "      <td>1.1</td>\n",
              "      <td>0.2</td>\n",
              "      <td>0.0</td>\n",
              "      <td>0.2</td>\n",
              "      <td>NaT</td>\n",
              "      <td>1517981</td>\n",
              "    </tr>\n",
              "    <tr>\n",
              "      <th>1626153</th>\n",
              "      <td>Delon Wright</td>\n",
              "      <td>Hawks</td>\n",
              "      <td>Guard</td>\n",
              "      <td>6-5</td>\n",
              "      <td>185</td>\n",
              "      <td>USA</td>\n",
              "      <td>1992-04-26</td>\n",
              "      <td>6</td>\n",
              "      <td>20</td>\n",
              "      <td>411</td>\n",
              "      <td>20.9</td>\n",
              "      <td>7.2</td>\n",
              "      <td>3.2</td>\n",
              "      <td>3.0</td>\n",
              "      <td>1.2</td>\n",
              "      <td>0.4</td>\n",
              "      <td>NaT</td>\n",
              "      <td>8526316</td>\n",
              "    </tr>\n",
              "    <tr>\n",
              "      <th>1629027</th>\n",
              "      <td>Trae Young</td>\n",
              "      <td>Hawks</td>\n",
              "      <td>Guard</td>\n",
              "      <td>6-1</td>\n",
              "      <td>164</td>\n",
              "      <td>USA</td>\n",
              "      <td>1998-09-19</td>\n",
              "      <td>3</td>\n",
              "      <td>5</td>\n",
              "      <td>280</td>\n",
              "      <td>33.6</td>\n",
              "      <td>25.3</td>\n",
              "      <td>3.9</td>\n",
              "      <td>9.1</td>\n",
              "      <td>0.9</td>\n",
              "      <td>0.2</td>\n",
              "      <td>NaT</td>\n",
              "      <td>14190000</td>\n",
              "    </tr>\n",
              "    <tr>\n",
              "      <th>1630209</th>\n",
              "      <td>Omer Yurtseven</td>\n",
              "      <td>Heat</td>\n",
              "      <td>Center</td>\n",
              "      <td>6-11</td>\n",
              "      <td>275</td>\n",
              "      <td>Turkey</td>\n",
              "      <td>1998-06-19</td>\n",
              "      <td>0</td>\n",
              "      <td>Undrafted</td>\n",
              "      <td>56</td>\n",
              "      <td>12.6</td>\n",
              "      <td>5.3</td>\n",
              "      <td>5.3</td>\n",
              "      <td>0.9</td>\n",
              "      <td>0.3</td>\n",
              "      <td>0.4</td>\n",
              "      <td>NaT</td>\n",
              "      <td>1489065</td>\n",
              "    </tr>\n",
              "    <tr>\n",
              "      <th>1627826</th>\n",
              "      <td>Ivica Zubac</td>\n",
              "      <td>Clippers</td>\n",
              "      <td>Center</td>\n",
              "      <td>7-0</td>\n",
              "      <td>240</td>\n",
              "      <td>Croatia</td>\n",
              "      <td>1997-03-18</td>\n",
              "      <td>5</td>\n",
              "      <td>32</td>\n",
              "      <td>360</td>\n",
              "      <td>19.0</td>\n",
              "      <td>8.3</td>\n",
              "      <td>6.5</td>\n",
              "      <td>1.1</td>\n",
              "      <td>0.3</td>\n",
              "      <td>0.8</td>\n",
              "      <td>NaT</td>\n",
              "      <td>7518518</td>\n",
              "    </tr>\n",
              "  </tbody>\n",
              "</table>\n",
              "<p>441 rows × 18 columns</p>\n",
              "</div>"
            ]
          },
          "metadata": {},
          "execution_count": 88
        }
      ],
      "source": [
        "cast_columns(working_df)"
      ]
    },
    {
      "cell_type": "markdown",
      "id": "f20f28d7-e6a1-4e6d-a51b-80ef8be06fd5",
      "metadata": {
        "id": "f20f28d7-e6a1-4e6d-a51b-80ef8be06fd5"
      },
      "source": [
        "3- Create a function that converts the height column from height in feet and inches to centimeters"
      ]
    },
    {
      "cell_type": "code",
      "execution_count": 89,
      "id": "8d56db84-cb66-4ca5-8789-b8b6f7938a0b",
      "metadata": {
        "id": "8d56db84-cb66-4ca5-8789-b8b6f7938a0b"
      },
      "outputs": [],
      "source": [
        "### Complete in this cell: convert height column\n",
        "def convert_height_column(working_df):\n",
        "  working_df[\"HEIGHT\"] = working_df[\"HEIGHT\"].apply(lambda x: int(round(int(x[:1])*30.48 + int(x[2:])*2.54,0)))\n",
        "  return"
      ]
    },
    {
      "cell_type": "code",
      "execution_count": 90,
      "id": "a0d50bed-0dc9-4672-a446-f677b7282bb0",
      "metadata": {
        "id": "a0d50bed-0dc9-4672-a446-f677b7282bb0"
      },
      "outputs": [],
      "source": [
        "convert_height_column(working_df)"
      ]
    },
    {
      "cell_type": "markdown",
      "id": "a611380e-47fe-4e81-8312-25876fb2025d",
      "metadata": {
        "id": "a611380e-47fe-4e81-8312-25876fb2025d"
      },
      "source": [
        "4- Create a function that converts the weight column from pounds to kilograms"
      ]
    },
    {
      "cell_type": "code",
      "execution_count": 91,
      "id": "1532605a-d642-40c8-a15f-a8825b8276bd",
      "metadata": {
        "id": "1532605a-d642-40c8-a15f-a8825b8276bd"
      },
      "outputs": [],
      "source": [
        "### Complete in this cell: convert weight column\n",
        "def convert_weight_column(working_df):\n",
        "  working_df[\"WEIGHT\"] =  working_df[\"WEIGHT\"].apply(lambda x: round(int(x)*0.453592, 2))\n",
        "  return"
      ]
    },
    {
      "cell_type": "code",
      "execution_count": 92,
      "id": "34ea64a1-1269-48f1-a76a-492c9e9f8adb",
      "metadata": {
        "id": "34ea64a1-1269-48f1-a76a-492c9e9f8adb"
      },
      "outputs": [],
      "source": [
        "convert_weight_column(working_df)"
      ]
    },
    {
      "cell_type": "markdown",
      "id": "0d94c670-4e24-479a-aed1-c72a1082b452",
      "metadata": {
        "id": "0d94c670-4e24-479a-aed1-c72a1082b452"
      },
      "source": [
        "5- Create a function that calculates the age in (years, months, days) and saves it in a new string column, example: \"22 years, 5 months, 25 days\" "
      ]
    },
    {
      "cell_type": "code",
      "execution_count": 93,
      "id": "1f7ec1c5-2820-4660-8c93-1a2ad44e3bb0",
      "metadata": {
        "id": "1f7ec1c5-2820-4660-8c93-1a2ad44e3bb0"
      },
      "outputs": [],
      "source": [
        "### Complete in this cell: add age column\n",
        "def add_age_column(working_df):\n",
        "  def age(birthdate):\n",
        "    today = date.today()\n",
        "    years = str(today.year - birthdate.year - ((today.month, today.day) < (birthdate.month, birthdate.day)))\n",
        "    months = str(abs(today.month-birthdate.month))\n",
        "    days = str(abs(today.day-birthdate.day))\n",
        "    age = years + \" years, \" + months + \" months, \" + days + \" days\"\n",
        "    return age\n",
        "  ages = []\n",
        "  for f in working_df.BIRTHDATE.index:\n",
        "    ages.append(age(working_df.BIRTHDATE[f]))\n",
        "  working_df[\"AGE\"] = ages\n",
        "  return"
      ]
    },
    {
      "cell_type": "code",
      "execution_count": 94,
      "id": "7796ed0f-4711-442b-865e-d8b09be3e227",
      "metadata": {
        "id": "7796ed0f-4711-442b-865e-d8b09be3e227"
      },
      "outputs": [],
      "source": [
        "add_age_column(working_df)"
      ]
    },
    {
      "cell_type": "markdown",
      "id": "25b55463-d16e-4635-a951-caaeb5a6795b",
      "metadata": {
        "id": "25b55463-d16e-4635-a951-caaeb5a6795b"
      },
      "source": [
        "6- Create a function that takes care of the disambiguation of the \"POSITION\" column. Should replace all positions that are mixed with the first one listed."
      ]
    },
    {
      "cell_type": "code",
      "execution_count": 95,
      "id": "b32acf08-6ffa-4dae-9cfb-8ff783b6ce5b",
      "metadata": {
        "id": "b32acf08-6ffa-4dae-9cfb-8ff783b6ce5b"
      },
      "outputs": [],
      "source": [
        "### Complete in this cell: disambiguation of the position column\n",
        "def update_position(working_df):\n",
        "  for pos in range(len(working_df[\"POSITION\"])):\n",
        "    if working_df[\"POSITION\"].values[pos].find(\"-\") != -1:\n",
        "     working_df[\"POSITION\"].values[pos] = working_df[\"POSITION\"].values[pos][:(working_df[\"POSITION\"].values[pos].find(\"-\"))]\n",
        "  return"
      ]
    },
    {
      "cell_type": "code",
      "execution_count": 96,
      "id": "6bdc5317-86cd-48ad-96ca-945f8f493bef",
      "metadata": {
        "id": "6bdc5317-86cd-48ad-96ca-945f8f493bef"
      },
      "outputs": [],
      "source": [
        "update_position(working_df)"
      ]
    },
    {
      "cell_type": "code",
      "source": [
        "working_df"
      ],
      "metadata": {
        "colab": {
          "base_uri": "https://localhost:8080/",
          "height": 596
        },
        "id": "-ma0D6xEj0Py",
        "outputId": "9f7d53d6-c557-4d1e-ddfb-3c0501ca2c23"
      },
      "id": "-ma0D6xEj0Py",
      "execution_count": 99,
      "outputs": [
        {
          "output_type": "execute_result",
          "data": {
            "text/plain": [
              "               PLAYER_NAME  TEAM_NAME POSITION  HEIGHT  WEIGHT      COUNTRY  \\\n",
              "1630173   Precious Achiuwa    Raptors  Forward     203  102.06      Nigeria   \n",
              "203500        Steven Adams  Grizzlies   Center     211  120.20  New Zealand   \n",
              "1628389        Bam Adebayo       Heat   Center     206  115.67          USA   \n",
              "1630583       Santi Aldama  Grizzlies  Forward     211   97.52        Spain   \n",
              "200746   Lamarcus Aldridge       Nets   Center     211  113.40          USA   \n",
              "...                    ...        ...      ...     ...     ...          ...   \n",
              "1630218  Robert Woodard Ii      Spurs  Forward     198  106.59          USA   \n",
              "1626153       Delon Wright      Hawks    Guard     196   83.91          USA   \n",
              "1629027         Trae Young      Hawks    Guard     185   74.39          USA   \n",
              "1630209     Omer Yurtseven       Heat   Center     211  124.74       Turkey   \n",
              "1627826        Ivica Zubac   Clippers   Center     213  108.86      Croatia   \n",
              "\n",
              "         BIRTHDATE  SEASON_EXP DRAFT_NUMBER    GP   MIN   PTS  REB  AST  STL  \\\n",
              "1630173 1999-09-19           1           20   134  18.4   7.2  5.1  0.8  0.4   \n",
              "203500  1993-07-20           8           12   664  26.8   9.3  8.0  1.5  0.9   \n",
              "1628389 1997-07-18           4           14   343  28.2  13.5  8.3  3.5  1.0   \n",
              "1630583 2001-01-10           0           30    32  11.2   4.1  2.7  0.7  0.2   \n",
              "200746  1985-07-19          15            2  1076  33.7  19.1  8.1  1.9  0.7   \n",
              "...            ...         ...          ...   ...   ...   ...  ...  ...  ...   \n",
              "1630218 1999-09-22           1           40    25   3.5   1.1  1.1  0.2  0.0   \n",
              "1626153 1992-04-26           6           20   411  20.9   7.2  3.2  3.0  1.2   \n",
              "1629027 1998-09-19           3            5   280  33.6  25.3  3.9  9.1  0.9   \n",
              "1630209 1998-06-19           0    Undrafted    56  12.6   5.3  5.3  0.9  0.3   \n",
              "1627826 1997-03-18           5           32   360  19.0   8.3  6.5  1.1  0.3   \n",
              "\n",
              "         BLK  GAME_DATE    SALARY                          AGE  \n",
              "1630173  0.5 2022-04-16   2711280   22 years, 5 months, 3 days  \n",
              "203500   0.9 2022-04-16  17073171   28 years, 3 months, 4 days  \n",
              "1628389  0.9 2022-04-17  28103550   24 years, 3 months, 2 days  \n",
              "1630583  0.3 2022-04-16   1994520   21 years, 3 months, 6 days  \n",
              "200746   1.1 2022-04-17   2641691   36 years, 3 months, 3 days  \n",
              "...      ...        ...       ...                          ...  \n",
              "1630218  0.2        NaT   1517981   22 years, 5 months, 6 days  \n",
              "1626153  0.4        NaT   8526316  29 years, 0 months, 10 days  \n",
              "1629027  0.2        NaT  14190000   23 years, 5 months, 3 days  \n",
              "1630209  0.4        NaT   1489065   23 years, 2 months, 3 days  \n",
              "1627826  0.8        NaT   7518518   25 years, 1 months, 2 days  \n",
              "\n",
              "[441 rows x 19 columns]"
            ],
            "text/html": [
              "<div>\n",
              "<style scoped>\n",
              "    .dataframe tbody tr th:only-of-type {\n",
              "        vertical-align: middle;\n",
              "    }\n",
              "\n",
              "    .dataframe tbody tr th {\n",
              "        vertical-align: top;\n",
              "    }\n",
              "\n",
              "    .dataframe thead th {\n",
              "        text-align: right;\n",
              "    }\n",
              "</style>\n",
              "<table border=\"1\" class=\"dataframe\">\n",
              "  <thead>\n",
              "    <tr style=\"text-align: right;\">\n",
              "      <th></th>\n",
              "      <th>PLAYER_NAME</th>\n",
              "      <th>TEAM_NAME</th>\n",
              "      <th>POSITION</th>\n",
              "      <th>HEIGHT</th>\n",
              "      <th>WEIGHT</th>\n",
              "      <th>COUNTRY</th>\n",
              "      <th>BIRTHDATE</th>\n",
              "      <th>SEASON_EXP</th>\n",
              "      <th>DRAFT_NUMBER</th>\n",
              "      <th>GP</th>\n",
              "      <th>MIN</th>\n",
              "      <th>PTS</th>\n",
              "      <th>REB</th>\n",
              "      <th>AST</th>\n",
              "      <th>STL</th>\n",
              "      <th>BLK</th>\n",
              "      <th>GAME_DATE</th>\n",
              "      <th>SALARY</th>\n",
              "      <th>AGE</th>\n",
              "    </tr>\n",
              "  </thead>\n",
              "  <tbody>\n",
              "    <tr>\n",
              "      <th>1630173</th>\n",
              "      <td>Precious Achiuwa</td>\n",
              "      <td>Raptors</td>\n",
              "      <td>Forward</td>\n",
              "      <td>203</td>\n",
              "      <td>102.06</td>\n",
              "      <td>Nigeria</td>\n",
              "      <td>1999-09-19</td>\n",
              "      <td>1</td>\n",
              "      <td>20</td>\n",
              "      <td>134</td>\n",
              "      <td>18.4</td>\n",
              "      <td>7.2</td>\n",
              "      <td>5.1</td>\n",
              "      <td>0.8</td>\n",
              "      <td>0.4</td>\n",
              "      <td>0.5</td>\n",
              "      <td>2022-04-16</td>\n",
              "      <td>2711280</td>\n",
              "      <td>22 years, 5 months, 3 days</td>\n",
              "    </tr>\n",
              "    <tr>\n",
              "      <th>203500</th>\n",
              "      <td>Steven Adams</td>\n",
              "      <td>Grizzlies</td>\n",
              "      <td>Center</td>\n",
              "      <td>211</td>\n",
              "      <td>120.20</td>\n",
              "      <td>New Zealand</td>\n",
              "      <td>1993-07-20</td>\n",
              "      <td>8</td>\n",
              "      <td>12</td>\n",
              "      <td>664</td>\n",
              "      <td>26.8</td>\n",
              "      <td>9.3</td>\n",
              "      <td>8.0</td>\n",
              "      <td>1.5</td>\n",
              "      <td>0.9</td>\n",
              "      <td>0.9</td>\n",
              "      <td>2022-04-16</td>\n",
              "      <td>17073171</td>\n",
              "      <td>28 years, 3 months, 4 days</td>\n",
              "    </tr>\n",
              "    <tr>\n",
              "      <th>1628389</th>\n",
              "      <td>Bam Adebayo</td>\n",
              "      <td>Heat</td>\n",
              "      <td>Center</td>\n",
              "      <td>206</td>\n",
              "      <td>115.67</td>\n",
              "      <td>USA</td>\n",
              "      <td>1997-07-18</td>\n",
              "      <td>4</td>\n",
              "      <td>14</td>\n",
              "      <td>343</td>\n",
              "      <td>28.2</td>\n",
              "      <td>13.5</td>\n",
              "      <td>8.3</td>\n",
              "      <td>3.5</td>\n",
              "      <td>1.0</td>\n",
              "      <td>0.9</td>\n",
              "      <td>2022-04-17</td>\n",
              "      <td>28103550</td>\n",
              "      <td>24 years, 3 months, 2 days</td>\n",
              "    </tr>\n",
              "    <tr>\n",
              "      <th>1630583</th>\n",
              "      <td>Santi Aldama</td>\n",
              "      <td>Grizzlies</td>\n",
              "      <td>Forward</td>\n",
              "      <td>211</td>\n",
              "      <td>97.52</td>\n",
              "      <td>Spain</td>\n",
              "      <td>2001-01-10</td>\n",
              "      <td>0</td>\n",
              "      <td>30</td>\n",
              "      <td>32</td>\n",
              "      <td>11.2</td>\n",
              "      <td>4.1</td>\n",
              "      <td>2.7</td>\n",
              "      <td>0.7</td>\n",
              "      <td>0.2</td>\n",
              "      <td>0.3</td>\n",
              "      <td>2022-04-16</td>\n",
              "      <td>1994520</td>\n",
              "      <td>21 years, 3 months, 6 days</td>\n",
              "    </tr>\n",
              "    <tr>\n",
              "      <th>200746</th>\n",
              "      <td>Lamarcus Aldridge</td>\n",
              "      <td>Nets</td>\n",
              "      <td>Center</td>\n",
              "      <td>211</td>\n",
              "      <td>113.40</td>\n",
              "      <td>USA</td>\n",
              "      <td>1985-07-19</td>\n",
              "      <td>15</td>\n",
              "      <td>2</td>\n",
              "      <td>1076</td>\n",
              "      <td>33.7</td>\n",
              "      <td>19.1</td>\n",
              "      <td>8.1</td>\n",
              "      <td>1.9</td>\n",
              "      <td>0.7</td>\n",
              "      <td>1.1</td>\n",
              "      <td>2022-04-17</td>\n",
              "      <td>2641691</td>\n",
              "      <td>36 years, 3 months, 3 days</td>\n",
              "    </tr>\n",
              "    <tr>\n",
              "      <th>...</th>\n",
              "      <td>...</td>\n",
              "      <td>...</td>\n",
              "      <td>...</td>\n",
              "      <td>...</td>\n",
              "      <td>...</td>\n",
              "      <td>...</td>\n",
              "      <td>...</td>\n",
              "      <td>...</td>\n",
              "      <td>...</td>\n",
              "      <td>...</td>\n",
              "      <td>...</td>\n",
              "      <td>...</td>\n",
              "      <td>...</td>\n",
              "      <td>...</td>\n",
              "      <td>...</td>\n",
              "      <td>...</td>\n",
              "      <td>...</td>\n",
              "      <td>...</td>\n",
              "      <td>...</td>\n",
              "    </tr>\n",
              "    <tr>\n",
              "      <th>1630218</th>\n",
              "      <td>Robert Woodard Ii</td>\n",
              "      <td>Spurs</td>\n",
              "      <td>Forward</td>\n",
              "      <td>198</td>\n",
              "      <td>106.59</td>\n",
              "      <td>USA</td>\n",
              "      <td>1999-09-22</td>\n",
              "      <td>1</td>\n",
              "      <td>40</td>\n",
              "      <td>25</td>\n",
              "      <td>3.5</td>\n",
              "      <td>1.1</td>\n",
              "      <td>1.1</td>\n",
              "      <td>0.2</td>\n",
              "      <td>0.0</td>\n",
              "      <td>0.2</td>\n",
              "      <td>NaT</td>\n",
              "      <td>1517981</td>\n",
              "      <td>22 years, 5 months, 6 days</td>\n",
              "    </tr>\n",
              "    <tr>\n",
              "      <th>1626153</th>\n",
              "      <td>Delon Wright</td>\n",
              "      <td>Hawks</td>\n",
              "      <td>Guard</td>\n",
              "      <td>196</td>\n",
              "      <td>83.91</td>\n",
              "      <td>USA</td>\n",
              "      <td>1992-04-26</td>\n",
              "      <td>6</td>\n",
              "      <td>20</td>\n",
              "      <td>411</td>\n",
              "      <td>20.9</td>\n",
              "      <td>7.2</td>\n",
              "      <td>3.2</td>\n",
              "      <td>3.0</td>\n",
              "      <td>1.2</td>\n",
              "      <td>0.4</td>\n",
              "      <td>NaT</td>\n",
              "      <td>8526316</td>\n",
              "      <td>29 years, 0 months, 10 days</td>\n",
              "    </tr>\n",
              "    <tr>\n",
              "      <th>1629027</th>\n",
              "      <td>Trae Young</td>\n",
              "      <td>Hawks</td>\n",
              "      <td>Guard</td>\n",
              "      <td>185</td>\n",
              "      <td>74.39</td>\n",
              "      <td>USA</td>\n",
              "      <td>1998-09-19</td>\n",
              "      <td>3</td>\n",
              "      <td>5</td>\n",
              "      <td>280</td>\n",
              "      <td>33.6</td>\n",
              "      <td>25.3</td>\n",
              "      <td>3.9</td>\n",
              "      <td>9.1</td>\n",
              "      <td>0.9</td>\n",
              "      <td>0.2</td>\n",
              "      <td>NaT</td>\n",
              "      <td>14190000</td>\n",
              "      <td>23 years, 5 months, 3 days</td>\n",
              "    </tr>\n",
              "    <tr>\n",
              "      <th>1630209</th>\n",
              "      <td>Omer Yurtseven</td>\n",
              "      <td>Heat</td>\n",
              "      <td>Center</td>\n",
              "      <td>211</td>\n",
              "      <td>124.74</td>\n",
              "      <td>Turkey</td>\n",
              "      <td>1998-06-19</td>\n",
              "      <td>0</td>\n",
              "      <td>Undrafted</td>\n",
              "      <td>56</td>\n",
              "      <td>12.6</td>\n",
              "      <td>5.3</td>\n",
              "      <td>5.3</td>\n",
              "      <td>0.9</td>\n",
              "      <td>0.3</td>\n",
              "      <td>0.4</td>\n",
              "      <td>NaT</td>\n",
              "      <td>1489065</td>\n",
              "      <td>23 years, 2 months, 3 days</td>\n",
              "    </tr>\n",
              "    <tr>\n",
              "      <th>1627826</th>\n",
              "      <td>Ivica Zubac</td>\n",
              "      <td>Clippers</td>\n",
              "      <td>Center</td>\n",
              "      <td>213</td>\n",
              "      <td>108.86</td>\n",
              "      <td>Croatia</td>\n",
              "      <td>1997-03-18</td>\n",
              "      <td>5</td>\n",
              "      <td>32</td>\n",
              "      <td>360</td>\n",
              "      <td>19.0</td>\n",
              "      <td>8.3</td>\n",
              "      <td>6.5</td>\n",
              "      <td>1.1</td>\n",
              "      <td>0.3</td>\n",
              "      <td>0.8</td>\n",
              "      <td>NaT</td>\n",
              "      <td>7518518</td>\n",
              "      <td>25 years, 1 months, 2 days</td>\n",
              "    </tr>\n",
              "  </tbody>\n",
              "</table>\n",
              "<p>441 rows × 19 columns</p>\n",
              "</div>"
            ]
          },
          "metadata": {},
          "execution_count": 99
        }
      ]
    },
    {
      "cell_type": "markdown",
      "id": "0cad9445-eee0-4fdf-b745-a0aac7138c87",
      "metadata": {
        "id": "0cad9445-eee0-4fdf-b745-a0aac7138c87"
      },
      "source": [
        "7- Review that the working dataset has all requested columns with its corresponding datatypes and save it as a csv with name \"nba_players_processed_dataset.csv\""
      ]
    },
    {
      "cell_type": "code",
      "execution_count": 98,
      "id": "7b423e20-c9f6-449a-8d8a-497bd464811d",
      "metadata": {
        "id": "7b423e20-c9f6-449a-8d8a-497bd464811d"
      },
      "outputs": [],
      "source": [
        "#working_df.to_csv(\"C:/Users/dgenz/Repositorios/Anyone_sprint1/nba_players_processed_dataset.csv\")"
      ]
    },
    {
      "cell_type": "markdown",
      "id": "6e794f61-3cc8-4899-a999-858a3cf0b959",
      "metadata": {
        "id": "6e794f61-3cc8-4899-a999-858a3cf0b959"
      },
      "source": [
        "## Analyzing and Visualizing data"
      ]
    },
    {
      "cell_type": "markdown",
      "id": "754b6690-e0c7-42ce-ac4a-45d000a5d9a8",
      "metadata": {
        "id": "754b6690-e0c7-42ce-ac4a-45d000a5d9a8"
      },
      "source": [
        "Now that we have the data, let's do some work"
      ]
    },
    {
      "cell_type": "markdown",
      "id": "b3f4a2fc-1f4f-4a18-ad43-fb125317395b",
      "metadata": {
        "id": "b3f4a2fc-1f4f-4a18-ad43-fb125317395b"
      },
      "source": [
        "1- Calculate and print the following metrics:\n",
        "\n",
        "    - General metrics:\n",
        "        - Total number of players\n",
        "        - Number of USA born players\n",
        "        - Number of foreign players\n",
        "        - Number of players per position\n",
        "        - Number of players per team\n",
        "        - Number of rookies (first year players)\n",
        "    - Players description\n",
        "        - Average player age (in years)\n",
        "        - Youngest player age (years and days, i.e: 18 years and 16 days)\n",
        "        - Oldest player age (years and days, i.e: 40 years and 160 days)\n",
        "        - Min and Max players height\n",
        "        - Average height of players per position\n",
        "    - Contracts\n",
        "        - Min and Max salary of all players\n",
        "        - Mean and Median salary of all players\n",
        "\n",
        "Bonus: if you can, calculate how many players retired between the end of the 2020-2021 season and the start of the 2021-22 season."
      ]
    },
    {
      "cell_type": "code",
      "execution_count": null,
      "id": "b5f62de4-8ddb-4377-a87c-a3cc655b6321",
      "metadata": {
        "id": "b5f62de4-8ddb-4377-a87c-a3cc655b6321"
      },
      "outputs": [],
      "source": [
        "### Complete in this cell: print general metrics\n"
      ]
    },
    {
      "cell_type": "code",
      "execution_count": null,
      "id": "660fe44e-b928-4097-999a-2b8f269fa32d",
      "metadata": {
        "id": "660fe44e-b928-4097-999a-2b8f269fa32d"
      },
      "outputs": [],
      "source": [
        "### Complete in this cell: print players descriptions\n",
        "    "
      ]
    },
    {
      "cell_type": "code",
      "execution_count": null,
      "id": "42c6c5e5-e800-479b-b575-12a578e53400",
      "metadata": {
        "id": "42c6c5e5-e800-479b-b575-12a578e53400"
      },
      "outputs": [],
      "source": [
        "### Complete in this cell: Contracts\n"
      ]
    },
    {
      "cell_type": "markdown",
      "id": "3a146e0c-ce0d-4e0c-971e-5b21e13fa077",
      "metadata": {
        "id": "3a146e0c-ce0d-4e0c-971e-5b21e13fa077"
      },
      "source": [
        "2- Plot the relationship between scoring (points per game) and salary of all players, the players positions should also be visible."
      ]
    },
    {
      "cell_type": "code",
      "execution_count": null,
      "id": "da36f3c1-0e69-47fd-a39c-67ce53f72851",
      "metadata": {
        "id": "da36f3c1-0e69-47fd-a39c-67ce53f72851"
      },
      "outputs": [],
      "source": [
        "### Complete in this cell:  Relationship between scoring and salary (in millions of dollars)\n"
      ]
    },
    {
      "cell_type": "markdown",
      "id": "0e188438-5ea0-4299-9597-3e038661710f",
      "metadata": {
        "id": "0e188438-5ea0-4299-9597-3e038661710f"
      },
      "source": [
        "3- Now plot assists-vs-salary and rebounding-vs-salary"
      ]
    },
    {
      "cell_type": "code",
      "execution_count": null,
      "id": "47fe0a50-996c-46a3-bd3c-f3863d4bc176",
      "metadata": {
        "id": "47fe0a50-996c-46a3-bd3c-f3863d4bc176"
      },
      "outputs": [],
      "source": [
        "### Complete in this cell: plot assist-vs-salary, rebounding-vs-salary\n"
      ]
    },
    {
      "cell_type": "markdown",
      "id": "6d33d74b-dbc1-4d7d-93ab-72d0f12de486",
      "metadata": {
        "id": "6d33d74b-dbc1-4d7d-93ab-72d0f12de486"
      },
      "source": [
        "4- When NBA players enter the league, they have low value salaries during what is called their \"rookie contract\". This means that it doesn't matter how well the player performs, they can't have large salaries. This can distort our understanding of how much teams value each skill, as a player could score 50 points a game and still earn just a couple of millions. So, lets now plot points, assists and rebounding vs salary, but only for players that have more than 4 years of experience (the typical length of a rookie contract)"
      ]
    },
    {
      "cell_type": "code",
      "execution_count": null,
      "id": "761750a3-0349-4e3e-ad56-cbb829117565",
      "metadata": {
        "id": "761750a3-0349-4e3e-ad56-cbb829117565"
      },
      "outputs": [],
      "source": [
        "### Complete in this cell: non rookie contracts\n"
      ]
    },
    {
      "cell_type": "markdown",
      "id": "e52dcf3d-a009-47c4-b4a3-a5cb94e66b2e",
      "metadata": {
        "id": "e52dcf3d-a009-47c4-b4a3-a5cb94e66b2e"
      },
      "source": [
        "5- Plot the scoring average grouped by position, we want to be able to see median, quartiles, etc "
      ]
    },
    {
      "cell_type": "code",
      "execution_count": null,
      "id": "e85a80b1-1e1c-4b97-881b-41caa3473436",
      "metadata": {
        "id": "e85a80b1-1e1c-4b97-881b-41caa3473436"
      },
      "outputs": [],
      "source": [
        "### Complete in this cell: Scoring average grouped by position\n"
      ]
    },
    {
      "cell_type": "markdown",
      "id": "2a669e88-8555-4e7c-aab7-83d3683dd26e",
      "metadata": {
        "id": "2a669e88-8555-4e7c-aab7-83d3683dd26e"
      },
      "source": [
        "6- Plot the Height distribution of all players"
      ]
    },
    {
      "cell_type": "code",
      "execution_count": null,
      "id": "648e15f1-d120-413e-b244-15c88fdc914f",
      "metadata": {
        "id": "648e15f1-d120-413e-b244-15c88fdc914f"
      },
      "outputs": [],
      "source": [
        "### Complete in this cell: height distribution\n"
      ]
    },
    {
      "cell_type": "markdown",
      "id": "42f87010-5100-4331-907b-8b602226fbb2",
      "metadata": {
        "id": "42f87010-5100-4331-907b-8b602226fbb2"
      },
      "source": [
        "OPTIONAL: Can you find a way to draw a world map and show how many active players per country the NBA has? [Example](https://i.redd.it/8qymui9fnin71.jpg)"
      ]
    },
    {
      "cell_type": "code",
      "execution_count": null,
      "id": "396ece64-3cbb-4c17-9fe1-960ab8998982",
      "metadata": {
        "id": "396ece64-3cbb-4c17-9fe1-960ab8998982"
      },
      "outputs": [],
      "source": [
        ""
      ]
    },
    {
      "cell_type": "code",
      "execution_count": null,
      "id": "165e4a5c-1814-4061-a73a-d5ff94489f5a",
      "metadata": {
        "id": "165e4a5c-1814-4061-a73a-d5ff94489f5a"
      },
      "outputs": [],
      "source": [
        ""
      ]
    }
  ],
  "metadata": {
    "kernelspec": {
      "display_name": "Python 3 (ipykernel)",
      "language": "python",
      "name": "python3"
    },
    "language_info": {
      "codemirror_mode": {
        "name": "ipython",
        "version": 3
      },
      "file_extension": ".py",
      "mimetype": "text/x-python",
      "name": "python",
      "nbconvert_exporter": "python",
      "pygments_lexer": "ipython3",
      "version": "3.8.13"
    },
    "colab": {
      "name": "AnyoneAI_Sprint1_Project1(Enzo_Matias_Gonzalez).ipynb",
      "provenance": [],
      "collapsed_sections": [
        "b08b2775-dd82-415a-8a6e-46c51b8c3f2b",
        "6e794f61-3cc8-4899-a999-858a3cf0b959"
      ],
      "include_colab_link": true
    }
  },
  "nbformat": 4,
  "nbformat_minor": 5
}